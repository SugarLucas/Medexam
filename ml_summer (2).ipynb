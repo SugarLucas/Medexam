{
 "cells": [
  {
   "cell_type": "code",
   "execution_count": 1,
   "id": "bd4e47c6",
   "metadata": {},
   "outputs": [],
   "source": [
    "import numpy as np\n",
    "import pandas as pd\n",
    "import matplotlib.pyplot as plt\n",
    "import seaborn as sns #for plotting\n",
    "from sklearn.ensemble import RandomForestClassifier #for the model\n",
    "from sklearn.tree import DecisionTreeClassifier\n",
    "from sklearn.tree import export_graphviz #plot tree\n",
    "from sklearn.metrics import roc_curve, auc #for model evaluation\n",
    "from sklearn.metrics import classification_report #for model evaluation\n",
    "from sklearn.metrics import confusion_matrix #for model evaluation\n",
    "from sklearn.model_selection import train_test_split #for data splitting\n",
    "from sklearn.experimental import enable_iterative_imputer  # noqa\n",
    "from sklearn.impute import SimpleImputer, KNNImputer, IterativeImputer\n",
    "from sklearn.model_selection import cross_val_score, cross_validate\n",
    "from sklearn.pipeline import make_pipeline\n",
    "import eli5 #for purmutation importance\n",
    "from eli5.sklearn import PermutationImportance\n",
    "import shap #for SHAP values\n",
    "#from pdpbox import pdp, info_plots #for partial plots\n",
    "np.random.seed(123) #ensure reproducibility\n",
    "\n",
    "pd.options.mode.chained_assignment = None  #hide any pandas warnings"
   ]
  },
  {
   "cell_type": "code",
   "execution_count": 2,
   "id": "98a43ff6",
   "metadata": {},
   "outputs": [
    {
     "name": "stdout",
     "output_type": "stream",
     "text": [
      "3.9.7\n"
     ]
    }
   ],
   "source": [
    "from platform import python_version\n",
    "print(python_version())"
   ]
  },
  {
   "cell_type": "code",
   "execution_count": 145,
   "id": "e09895c8",
   "metadata": {},
   "outputs": [],
   "source": [
    "#import the dataframe for train, test\n",
    "df = pd.read_excel('aug10.xlsx')"
   ]
  },
  {
   "cell_type": "code",
   "execution_count": 146,
   "id": "2c092d88",
   "metadata": {},
   "outputs": [],
   "source": [
    "#dataframe for search \n",
    "aim = pd.read_excel('freq.xlsx')"
   ]
  },
  {
   "cell_type": "code",
   "execution_count": 121,
   "id": "ae9d6373",
   "metadata": {},
   "outputs": [
    {
     "data": {
      "text/html": [
       "<div>\n",
       "<style scoped>\n",
       "    .dataframe tbody tr th:only-of-type {\n",
       "        vertical-align: middle;\n",
       "    }\n",
       "\n",
       "    .dataframe tbody tr th {\n",
       "        vertical-align: top;\n",
       "    }\n",
       "\n",
       "    .dataframe thead th {\n",
       "        text-align: right;\n",
       "    }\n",
       "</style>\n",
       "<table border=\"1\" class=\"dataframe\">\n",
       "  <thead>\n",
       "    <tr style=\"text-align: right;\">\n",
       "      <th></th>\n",
       "      <th>单位</th>\n",
       "      <th>体检编号</th>\n",
       "      <th>体检次数</th>\n",
       "      <th>体检流水号_x</th>\n",
       "      <th>姓名_x</th>\n",
       "      <th>性别_x</th>\n",
       "      <th>年龄_x</th>\n",
       "      <th>电话</th>\n",
       "      <th>体检日期</th>\n",
       "      <th>25羟维生素D</th>\n",
       "      <th>...</th>\n",
       "      <th>入院日期</th>\n",
       "      <th>出院日期</th>\n",
       "      <th>入院诊断</th>\n",
       "      <th>出院诊断</th>\n",
       "      <th>出院医嘱</th>\n",
       "      <th>年龄_y</th>\n",
       "      <th>性别_y</th>\n",
       "      <th>姓名_y.1</th>\n",
       "      <th>身份证</th>\n",
       "      <th>体检流水号_y</th>\n",
       "    </tr>\n",
       "  </thead>\n",
       "  <tbody>\n",
       "    <tr>\n",
       "      <th>0</th>\n",
       "      <td>个人套餐</td>\n",
       "      <td>141166</td>\n",
       "      <td>1</td>\n",
       "      <td>710150025</td>\n",
       "      <td>刘艳玲</td>\n",
       "      <td>女</td>\n",
       "      <td>26.0</td>\n",
       "      <td>13725290942</td>\n",
       "      <td>2007-10-15 11:06:56.627</td>\n",
       "      <td>NaN</td>\n",
       "      <td>...</td>\n",
       "      <td>2022-01-02</td>\n",
       "      <td>2022-01-07</td>\n",
       "      <td>右髌骨骨折</td>\n",
       "      <td>右髌骨骨折</td>\n",
       "      <td>NaN</td>\n",
       "      <td>Y43</td>\n",
       "      <td>男</td>\n",
       "      <td>梁尤键</td>\n",
       "      <td>450104197605151538</td>\n",
       "      <td>1603030018</td>\n",
       "    </tr>\n",
       "    <tr>\n",
       "      <th>1</th>\n",
       "      <td>个人套餐</td>\n",
       "      <td>141666</td>\n",
       "      <td>1</td>\n",
       "      <td>710170030</td>\n",
       "      <td>李小慰</td>\n",
       "      <td>女</td>\n",
       "      <td>23.0</td>\n",
       "      <td>NaN</td>\n",
       "      <td>2007-10-17 10:19:23.087</td>\n",
       "      <td>NaN</td>\n",
       "      <td>...</td>\n",
       "      <td>2022-02-25</td>\n",
       "      <td>2022-02-28</td>\n",
       "      <td>1.左侧输尿管下段结石并左肾积液 2.左肾结石</td>\n",
       "      <td>1.左侧输尿管下段结石并左肾积液 2.左侧输尿管狭窄 3.双肾小结石 4.泌尿道感染 5.高...</td>\n",
       "      <td>NaN</td>\n",
       "      <td>Y50</td>\n",
       "      <td>男</td>\n",
       "      <td>孙英杰</td>\n",
       "      <td>150402197010210618</td>\n",
       "      <td>1310300016</td>\n",
       "    </tr>\n",
       "    <tr>\n",
       "      <th>2</th>\n",
       "      <td>个人套餐</td>\n",
       "      <td>141666</td>\n",
       "      <td>1</td>\n",
       "      <td>710170030</td>\n",
       "      <td>李小慰</td>\n",
       "      <td>女</td>\n",
       "      <td>23.0</td>\n",
       "      <td>NaN</td>\n",
       "      <td>2007-10-17 10:19:23.087</td>\n",
       "      <td>NaN</td>\n",
       "      <td>...</td>\n",
       "      <td>2022-02-25</td>\n",
       "      <td>2022-02-28</td>\n",
       "      <td>1.左侧输尿管下段结石并左肾积液 2.左肾结石</td>\n",
       "      <td>1.左侧输尿管下段结石并左肾积液 2.左侧输尿管狭窄 3.双肾小结石 4.泌尿道感染 5.高...</td>\n",
       "      <td>NaN</td>\n",
       "      <td>Y50</td>\n",
       "      <td>男</td>\n",
       "      <td>孙英杰</td>\n",
       "      <td>150402197010210618</td>\n",
       "      <td>1504280095</td>\n",
       "    </tr>\n",
       "    <tr>\n",
       "      <th>3</th>\n",
       "      <td>个人套餐</td>\n",
       "      <td>141666</td>\n",
       "      <td>1</td>\n",
       "      <td>710170030</td>\n",
       "      <td>李小慰</td>\n",
       "      <td>女</td>\n",
       "      <td>23.0</td>\n",
       "      <td>NaN</td>\n",
       "      <td>2007-10-17 10:19:23.087</td>\n",
       "      <td>NaN</td>\n",
       "      <td>...</td>\n",
       "      <td>2022-02-25</td>\n",
       "      <td>2022-02-28</td>\n",
       "      <td>1.左侧输尿管下段结石并左肾积液 2.左肾结石</td>\n",
       "      <td>1.左侧输尿管下段结石并左肾积液 2.左侧输尿管狭窄 3.双肾小结石 4.泌尿道感染 5.高...</td>\n",
       "      <td>NaN</td>\n",
       "      <td>Y50</td>\n",
       "      <td>男</td>\n",
       "      <td>孙英杰</td>\n",
       "      <td>150402197010210618</td>\n",
       "      <td>1606250119</td>\n",
       "    </tr>\n",
       "    <tr>\n",
       "      <th>4</th>\n",
       "      <td>个人套餐</td>\n",
       "      <td>141666</td>\n",
       "      <td>1</td>\n",
       "      <td>710170030</td>\n",
       "      <td>李小慰</td>\n",
       "      <td>女</td>\n",
       "      <td>23.0</td>\n",
       "      <td>NaN</td>\n",
       "      <td>2007-10-17 10:19:23.087</td>\n",
       "      <td>NaN</td>\n",
       "      <td>...</td>\n",
       "      <td>2018-12-17</td>\n",
       "      <td>2018-12-22</td>\n",
       "      <td>1.结肠息肉 2.慢性胃炎 3.脂肪肝 4.高尿酸血症 5.高脂血症</td>\n",
       "      <td>1.结肠多发性息肉 2.慢性胃炎 3.脂肪肝 4.高尿酸血症 5.高脂血症</td>\n",
       "      <td>NaN</td>\n",
       "      <td>Y47</td>\n",
       "      <td>男</td>\n",
       "      <td>孙英杰</td>\n",
       "      <td>150402197010210618</td>\n",
       "      <td>1310300016</td>\n",
       "    </tr>\n",
       "  </tbody>\n",
       "</table>\n",
       "<p>5 rows × 163 columns</p>\n",
       "</div>"
      ],
      "text/plain": [
       "     单位    体检编号  体检次数    体检流水号_x 姓名_x 性别_x  年龄_x           电话  \\\n",
       "0  个人套餐  141166     1  710150025  刘艳玲    女  26.0  13725290942   \n",
       "1  个人套餐  141666     1  710170030  李小慰    女  23.0          NaN   \n",
       "2  个人套餐  141666     1  710170030  李小慰    女  23.0          NaN   \n",
       "3  个人套餐  141666     1  710170030  李小慰    女  23.0          NaN   \n",
       "4  个人套餐  141666     1  710170030  李小慰    女  23.0          NaN   \n",
       "\n",
       "                     体检日期  25羟维生素D  ...        入院日期        出院日期  \\\n",
       "0 2007-10-15 11:06:56.627      NaN  ...  2022-01-02  2022-01-07   \n",
       "1 2007-10-17 10:19:23.087      NaN  ...  2022-02-25  2022-02-28   \n",
       "2 2007-10-17 10:19:23.087      NaN  ...  2022-02-25  2022-02-28   \n",
       "3 2007-10-17 10:19:23.087      NaN  ...  2022-02-25  2022-02-28   \n",
       "4 2007-10-17 10:19:23.087      NaN  ...  2018-12-17  2018-12-22   \n",
       "\n",
       "                                 入院诊断  \\\n",
       "0                               右髌骨骨折   \n",
       "1             1.左侧输尿管下段结石并左肾积液 2.左肾结石   \n",
       "2             1.左侧输尿管下段结石并左肾积液 2.左肾结石   \n",
       "3             1.左侧输尿管下段结石并左肾积液 2.左肾结石   \n",
       "4  1.结肠息肉 2.慢性胃炎 3.脂肪肝 4.高尿酸血症 5.高脂血症   \n",
       "\n",
       "                                                出院诊断  出院医嘱  年龄_y  性别_y  \\\n",
       "0                                              右髌骨骨折   NaN   Y43     男   \n",
       "1  1.左侧输尿管下段结石并左肾积液 2.左侧输尿管狭窄 3.双肾小结石 4.泌尿道感染 5.高...   NaN   Y50     男   \n",
       "2  1.左侧输尿管下段结石并左肾积液 2.左侧输尿管狭窄 3.双肾小结石 4.泌尿道感染 5.高...   NaN   Y50     男   \n",
       "3  1.左侧输尿管下段结石并左肾积液 2.左侧输尿管狭窄 3.双肾小结石 4.泌尿道感染 5.高...   NaN   Y50     男   \n",
       "4              1.结肠多发性息肉 2.慢性胃炎 3.脂肪肝 4.高尿酸血症 5.高脂血症   NaN   Y47     男   \n",
       "\n",
       "            姓名_y.1                 身份证     体检流水号_y  \n",
       "0              梁尤键  450104197605151538  1603030018  \n",
       "1  孙英杰              150402197010210618  1310300016  \n",
       "2              孙英杰  150402197010210618  1504280095  \n",
       "3              孙英杰  150402197010210618  1606250119  \n",
       "4  孙英杰              150402197010210618  1310300016  \n",
       "\n",
       "[5 rows x 163 columns]"
      ]
     },
     "execution_count": 121,
     "metadata": {},
     "output_type": "execute_result"
    }
   ],
   "source": [
    "df.head()"
   ]
  },
  {
   "cell_type": "code",
   "execution_count": 122,
   "id": "eb3c89bb",
   "metadata": {},
   "outputs": [
    {
     "name": "stdout",
     "output_type": "stream",
     "text": [
      "<class 'pandas.core.frame.DataFrame'>\n",
      "RangeIndex: 2866 entries, 0 to 2865\n",
      "Columns: 163 entries, 单位 to 体检流水号_y\n",
      "dtypes: datetime64[ns](4), float64(105), int64(10), object(44)\n",
      "memory usage: 3.6+ MB\n"
     ]
    }
   ],
   "source": [
    "df.info()"
   ]
  },
  {
   "cell_type": "code",
   "execution_count": 123,
   "id": "af446ae7",
   "metadata": {},
   "outputs": [
    {
     "data": {
      "text/html": [
       "<div>\n",
       "<style scoped>\n",
       "    .dataframe tbody tr th:only-of-type {\n",
       "        vertical-align: middle;\n",
       "    }\n",
       "\n",
       "    .dataframe tbody tr th {\n",
       "        vertical-align: top;\n",
       "    }\n",
       "\n",
       "    .dataframe thead th {\n",
       "        text-align: right;\n",
       "    }\n",
       "</style>\n",
       "<table border=\"1\" class=\"dataframe\">\n",
       "  <thead>\n",
       "    <tr style=\"text-align: right;\">\n",
       "      <th></th>\n",
       "      <th>诊断</th>\n",
       "      <th>频数</th>\n",
       "    </tr>\n",
       "  </thead>\n",
       "  <tbody>\n",
       "    <tr>\n",
       "      <th>0</th>\n",
       "      <td>高尿酸血症</td>\n",
       "      <td>369</td>\n",
       "    </tr>\n",
       "    <tr>\n",
       "      <th>1</th>\n",
       "      <td>脂肪肝</td>\n",
       "      <td>316</td>\n",
       "    </tr>\n",
       "    <tr>\n",
       "      <th>2</th>\n",
       "      <td>高脂血症</td>\n",
       "      <td>284</td>\n",
       "    </tr>\n",
       "    <tr>\n",
       "      <th>3</th>\n",
       "      <td>2型糖尿病</td>\n",
       "      <td>238</td>\n",
       "    </tr>\n",
       "    <tr>\n",
       "      <th>4</th>\n",
       "      <td>低蛋白血症</td>\n",
       "      <td>175</td>\n",
       "    </tr>\n",
       "  </tbody>\n",
       "</table>\n",
       "</div>"
      ],
      "text/plain": [
       "      诊断   频数\n",
       "0  高尿酸血症  369\n",
       "1    脂肪肝  316\n",
       "2   高脂血症  284\n",
       "3  2型糖尿病  238\n",
       "4  低蛋白血症  175"
      ]
     },
     "execution_count": 123,
     "metadata": {},
     "output_type": "execute_result"
    }
   ],
   "source": [
    "aim.head()"
   ]
  },
  {
   "cell_type": "code",
   "execution_count": 124,
   "id": "9749cf9b",
   "metadata": {},
   "outputs": [
    {
     "name": "stdout",
     "output_type": "stream",
     "text": [
      "['体检编号', '体检次数', '体检流水号_x', '体检年', '出生年', 'INP_NO', 'ID_NO', 'SECRET_LEVEL', '身份证', '体检流水号_y']\n"
     ]
    }
   ],
   "source": [
    "# 选择整数类型的列\n",
    "int_cols = df.select_dtypes(include=['int']).columns.tolist()\n",
    "\n",
    "# 打印结果\n",
    "print(int_cols)"
   ]
  },
  {
   "cell_type": "code",
   "execution_count": 125,
   "id": "82d3973e",
   "metadata": {},
   "outputs": [
    {
     "name": "stdout",
     "output_type": "stream",
     "text": [
      "['年龄_x', '25羟维生素D', 'C反应蛋白', 'C反应蛋白1', '癌抗原125', '癌抗原125（CA125）', '癌抗原15－3', '癌抗原15-3（CA15-3）', '癌胚抗原', '癌胚抗原（CEA）定性', '白/球比值(A/G)', '白蛋白(ALB)', '丙氨酸氨基转移酶(ALT)', '低密度脂蛋白(LDL)', '恶性肿瘤生长因子(TSGF)', '二氧化碳结合力(CO2-CP)', '腹围', '甘油三脂(TG)', '高密度脂蛋白(HDL)', '谷氨酰转肽酶(γ-GT)', '骨钙素(BGP)', '肌酐(Cr)', '肌酸激酶(CK)', '肌酸激酶同工酶', '肌酸激酶同功酶(CK-Mb（M）)', '甲胎蛋白', '甲胎蛋白1', '甲胎蛋白（AFP）定性', '甲状旁腺素(PTH)', '碱性磷酸酶(AKP)', '结合型前列腺特异性抗原', '结合型前列腺特异性抗原C-PSA', '空腹血糖', '空腹胰岛素', '鳞状细胞癌抗原', '鳞状细胞癌抗原1', '鳞状细胞癌抗原测定scc', '尿酸(UA)', '球蛋白(GLB)', '人绒毛促性腺激素（Beta-HCG）', '人绒毛膜促性腺激素', '乳酸脱氢酶(LDH)', '神经元特异性烯醇化酶', '神经原特异性烯醇化酶（NSE）', '双能骨密度检测', '双能骨密度检测1', '糖链抗原（CA242）', '糖链抗原19-9', '糖链抗原242', '糖链抗原-242', '体重', '天门冬丙氨酸氨基转移酶(AST)', '胃癌抗原', '细胞角蛋白19片段', '细胞角蛋白19片段(Cy)', '细胞角蛋白19片段（CY211）', '血糖(空腹)', '腰围', '胰岛素', '胰岛素1', '载脂蛋白AI(APO-A1)', '载脂蛋白B(ApoB)', '肿瘤标志物相关物质（TSGF）', '肿瘤抗原19-9', '肿瘤抗原242', '肿瘤抗原CA-125', '肿瘤抗原CA-153', '总胆固醇(CHOL)', '总胆红素(TBIL)', '总胆汁酸', '总胆汁酸(TBA)', '总蛋白(TP)', 'NAME_PHONETIC', 'IDENTITY', 'UNIT_IN_CONTRACT', 'NEXT_OF_KIN_ZIP_CODE', 'LAST_VISIT_DATE', 'VIP_INDICATOR', 'OPERATOR', 'PIX_PATIENT_ID', 'SEX_CV_VALUE', 'CITIZENSHIP_CV_VALUE', 'NATION_CV_VALUE', 'HOME_CODE', 'HOME_ZIP', 'CARD_NO', 'BIRTH_PLACE_CODE', 'JIGUAN_CODE', 'SERVICE_AGENCY_MOTHER', 'PHONE_NUMBER_MOTHER', 'ID_NO_MOTHER', 'NAME_MOTHER', 'SERVICE_AGENCY_FATHER', 'PHONE_NUMBER_FATHER', 'ID_NO_FATHER', 'NAME_FATHER', 'IS_CONFIDENTIAL', 'DOC_TYPE', 'CASEID', 'BOH_CITIZENSHIP', 'MARITAL_STATUS', 'OTHER_REASON', 'ID_TYPE', 'UNKNOWN_ID_REASON', 'PATIENT_NO']\n"
     ]
    }
   ],
   "source": [
    "# 选择小数类型的列\n",
    "float_cols = df.select_dtypes(include=['float']).columns.tolist()\n",
    "\n",
    "# 打印结果\n",
    "print(float_cols)"
   ]
  },
  {
   "cell_type": "code",
   "execution_count": 126,
   "id": "f5954352",
   "metadata": {},
   "outputs": [
    {
     "data": {
      "text/plain": [
       "0"
      ]
     },
     "execution_count": 126,
     "metadata": {},
     "output_type": "execute_result"
    }
   ],
   "source": [
    "df['出院诊断'].isnull().sum()"
   ]
  },
  {
   "cell_type": "code",
   "execution_count": 155,
   "id": "3c7136e9",
   "metadata": {},
   "outputs": [],
   "source": [
    "# 搜索 '高尿酸血症' 是否在 '出院诊断' 列中，并添加新列 'target'\n",
    "df['target'] = df['出院诊断'].apply(lambda x: 1 if '高尿酸血症' in x else 0)"
   ]
  },
  {
   "cell_type": "code",
   "execution_count": 156,
   "id": "f88801d0",
   "metadata": {},
   "outputs": [
    {
     "data": {
      "text/plain": [
       "0    2448\n",
       "1     418\n",
       "Name: target, dtype: int64"
      ]
     },
     "execution_count": 156,
     "metadata": {},
     "output_type": "execute_result"
    }
   ],
   "source": [
    "#检查数据平衡性\n",
    "df['target'].value_counts()"
   ]
  },
  {
   "cell_type": "code",
   "execution_count": 132,
   "id": "83cde7c2",
   "metadata": {},
   "outputs": [],
   "source": [
    "# 使用 rename() 方法重命名列\n",
    "df = df.rename(columns={'年龄_x': '入院年龄'})"
   ]
  },
  {
   "cell_type": "code",
   "execution_count": 141,
   "id": "f747c211-d2f0-4f37-aa6e-0e842a286d6f",
   "metadata": {},
   "outputs": [
    {
     "name": "stdout",
     "output_type": "stream",
     "text": [
      "object\n"
     ]
    }
   ],
   "source": [
    "print(df['入院日期'].dtype)"
   ]
  },
  {
   "cell_type": "code",
   "execution_count": 142,
   "id": "fab922de-46c1-497c-af07-6654b7963d7b",
   "metadata": {},
   "outputs": [
    {
     "name": "stdout",
     "output_type": "stream",
     "text": [
      "int64\n"
     ]
    }
   ],
   "source": [
    "print(df['体检年'].dtype)"
   ]
  },
  {
   "cell_type": "code",
   "execution_count": 148,
   "id": "23328fcd",
   "metadata": {},
   "outputs": [
    {
     "name": "stdout",
     "output_type": "stream",
     "text": [
      "Index(['年龄_x', '丙氨酸氨基转移酶(ALT)', '低密度脂蛋白(LDL)', '甘油三脂(TG)', '高密度脂蛋白(HDL)',\n",
      "       '肌酐(Cr)', '尿酸(UA)', '天门冬丙氨酸氨基转移酶(AST)', '总胆固醇(CHOL)', 'HOME_ZIP'],\n",
      "      dtype='object')\n"
     ]
    }
   ],
   "source": [
    "# 计算每个列的非空值比例\n",
    "nonnull_ratio = df.notnull().sum() / len(df)\n",
    "\n",
    "# 选择非空值比例超过 20% 的浮点类型列\n",
    "float_cols = df.columns[(df.dtypes == 'float64') & (nonnull_ratio > 0.2)]\n",
    "\n",
    "# 打印结果\n",
    "print(float_cols)"
   ]
  },
  {
   "cell_type": "code",
   "execution_count": 149,
   "id": "0e5f4ec4-b74a-499b-b024-d434eba84da5",
   "metadata": {},
   "outputs": [],
   "source": [
    "# Remove '年龄_x' and 'HOME_ZIP' from float_cols\n",
    "float_cols = float_cols.drop(['年龄_x', 'HOME_ZIP'])"
   ]
  },
  {
   "cell_type": "code",
   "execution_count": 150,
   "id": "3dcdf2f2-089b-4d62-ab11-97c8a17074fc",
   "metadata": {},
   "outputs": [
    {
     "name": "stdout",
     "output_type": "stream",
     "text": [
      "Index(['丙氨酸氨基转移酶(ALT)', '低密度脂蛋白(LDL)', '甘油三脂(TG)', '高密度脂蛋白(HDL)', '肌酐(Cr)',\n",
      "       '尿酸(UA)', '天门冬丙氨酸氨基转移酶(AST)', '总胆固醇(CHOL)'],\n",
      "      dtype='object')\n"
     ]
    }
   ],
   "source": [
    "# 打印结果\n",
    "print(float_cols)"
   ]
  },
  {
   "cell_type": "code",
   "execution_count": 151,
   "id": "5e4e2392",
   "metadata": {},
   "outputs": [],
   "source": [
    "#input\n",
    "X = df[float_cols]"
   ]
  },
  {
   "cell_type": "code",
   "execution_count": 157,
   "id": "d60b09b8",
   "metadata": {},
   "outputs": [],
   "source": [
    "#output\n",
    "y = df['target']"
   ]
  },
  {
   "cell_type": "code",
   "execution_count": 158,
   "id": "a4dcc3fc",
   "metadata": {},
   "outputs": [
    {
     "data": {
      "text/plain": [
       "(2866, 8)"
      ]
     },
     "execution_count": 158,
     "metadata": {},
     "output_type": "execute_result"
    }
   ],
   "source": [
    "X.shape"
   ]
  },
  {
   "cell_type": "code",
   "execution_count": 159,
   "id": "912e87d2",
   "metadata": {},
   "outputs": [
    {
     "data": {
      "text/plain": [
       "(2866,)"
      ]
     },
     "execution_count": 159,
     "metadata": {},
     "output_type": "execute_result"
    }
   ],
   "source": [
    "y.shape"
   ]
  },
  {
   "cell_type": "code",
   "execution_count": 160,
   "id": "228d62c3",
   "metadata": {},
   "outputs": [
    {
     "data": {
      "text/plain": [
       "丙氨酸氨基转移酶(ALT)        283\n",
       "低密度脂蛋白(LDL)         1827\n",
       "甘油三脂(TG)            1563\n",
       "高密度脂蛋白(HDL)         2250\n",
       "肌酐(Cr)              1169\n",
       "尿酸(UA)              1628\n",
       "天门冬丙氨酸氨基转移酶(AST)     664\n",
       "总胆固醇(CHOL)          1573\n",
       "dtype: int64"
      ]
     },
     "execution_count": 160,
     "metadata": {},
     "output_type": "execute_result"
    }
   ],
   "source": [
    "X.isna().sum()"
   ]
  },
  {
   "cell_type": "code",
   "execution_count": 161,
   "id": "6197496a",
   "metadata": {},
   "outputs": [
    {
     "data": {
      "text/plain": [
       "丙氨酸氨基转移酶(ALT)       float64\n",
       "低密度脂蛋白(LDL)         float64\n",
       "甘油三脂(TG)            float64\n",
       "高密度脂蛋白(HDL)         float64\n",
       "肌酐(Cr)              float64\n",
       "尿酸(UA)              float64\n",
       "天门冬丙氨酸氨基转移酶(AST)    float64\n",
       "总胆固醇(CHOL)          float64\n",
       "dtype: object"
      ]
     },
     "execution_count": 161,
     "metadata": {},
     "output_type": "execute_result"
    }
   ],
   "source": [
    "df_dummy = pd.get_dummies(X)\n",
    "df_dummy.dtypes"
   ]
  },
  {
   "cell_type": "code",
   "execution_count": 162,
   "id": "01667157",
   "metadata": {},
   "outputs": [
    {
     "data": {
      "text/html": [
       "<div>\n",
       "<style scoped>\n",
       "    .dataframe tbody tr th:only-of-type {\n",
       "        vertical-align: middle;\n",
       "    }\n",
       "\n",
       "    .dataframe tbody tr th {\n",
       "        vertical-align: top;\n",
       "    }\n",
       "\n",
       "    .dataframe thead th {\n",
       "        text-align: right;\n",
       "    }\n",
       "</style>\n",
       "<table border=\"1\" class=\"dataframe\">\n",
       "  <thead>\n",
       "    <tr style=\"text-align: right;\">\n",
       "      <th></th>\n",
       "      <th>丙氨酸氨基转移酶(ALT)</th>\n",
       "      <th>低密度脂蛋白(LDL)</th>\n",
       "      <th>甘油三脂(TG)</th>\n",
       "      <th>高密度脂蛋白(HDL)</th>\n",
       "      <th>肌酐(Cr)</th>\n",
       "      <th>尿酸(UA)</th>\n",
       "      <th>天门冬丙氨酸氨基转移酶(AST)</th>\n",
       "      <th>总胆固醇(CHOL)</th>\n",
       "    </tr>\n",
       "  </thead>\n",
       "  <tbody>\n",
       "    <tr>\n",
       "      <th>0</th>\n",
       "      <td>20.988386</td>\n",
       "      <td>3.607834</td>\n",
       "      <td>1.568557</td>\n",
       "      <td>1.388669</td>\n",
       "      <td>83.479906</td>\n",
       "      <td>346.339984</td>\n",
       "      <td>22.965486</td>\n",
       "      <td>5.144656</td>\n",
       "    </tr>\n",
       "    <tr>\n",
       "      <th>1</th>\n",
       "      <td>13.000000</td>\n",
       "      <td>3.390000</td>\n",
       "      <td>1.340000</td>\n",
       "      <td>1.332000</td>\n",
       "      <td>91.360000</td>\n",
       "      <td>381.520000</td>\n",
       "      <td>45.000000</td>\n",
       "      <td>5.936000</td>\n",
       "    </tr>\n",
       "    <tr>\n",
       "      <th>2</th>\n",
       "      <td>13.000000</td>\n",
       "      <td>3.390000</td>\n",
       "      <td>1.340000</td>\n",
       "      <td>1.332000</td>\n",
       "      <td>91.360000</td>\n",
       "      <td>381.520000</td>\n",
       "      <td>45.000000</td>\n",
       "      <td>5.936000</td>\n",
       "    </tr>\n",
       "    <tr>\n",
       "      <th>3</th>\n",
       "      <td>13.000000</td>\n",
       "      <td>3.390000</td>\n",
       "      <td>1.340000</td>\n",
       "      <td>1.332000</td>\n",
       "      <td>91.360000</td>\n",
       "      <td>381.520000</td>\n",
       "      <td>45.000000</td>\n",
       "      <td>5.936000</td>\n",
       "    </tr>\n",
       "    <tr>\n",
       "      <th>4</th>\n",
       "      <td>13.000000</td>\n",
       "      <td>3.390000</td>\n",
       "      <td>1.340000</td>\n",
       "      <td>1.332000</td>\n",
       "      <td>91.360000</td>\n",
       "      <td>381.520000</td>\n",
       "      <td>45.000000</td>\n",
       "      <td>5.936000</td>\n",
       "    </tr>\n",
       "    <tr>\n",
       "      <th>...</th>\n",
       "      <td>...</td>\n",
       "      <td>...</td>\n",
       "      <td>...</td>\n",
       "      <td>...</td>\n",
       "      <td>...</td>\n",
       "      <td>...</td>\n",
       "      <td>...</td>\n",
       "      <td>...</td>\n",
       "    </tr>\n",
       "    <tr>\n",
       "      <th>2861</th>\n",
       "      <td>38.000000</td>\n",
       "      <td>3.680000</td>\n",
       "      <td>2.710000</td>\n",
       "      <td>1.760000</td>\n",
       "      <td>74.000000</td>\n",
       "      <td>347.000000</td>\n",
       "      <td>25.000000</td>\n",
       "      <td>6.450000</td>\n",
       "    </tr>\n",
       "    <tr>\n",
       "      <th>2862</th>\n",
       "      <td>16.000000</td>\n",
       "      <td>3.770000</td>\n",
       "      <td>1.130000</td>\n",
       "      <td>1.640000</td>\n",
       "      <td>93.000000</td>\n",
       "      <td>357.000000</td>\n",
       "      <td>19.000000</td>\n",
       "      <td>6.590000</td>\n",
       "    </tr>\n",
       "    <tr>\n",
       "      <th>2863</th>\n",
       "      <td>15.000000</td>\n",
       "      <td>2.580000</td>\n",
       "      <td>0.830000</td>\n",
       "      <td>1.150000</td>\n",
       "      <td>80.000000</td>\n",
       "      <td>296.000000</td>\n",
       "      <td>21.600000</td>\n",
       "      <td>4.640000</td>\n",
       "    </tr>\n",
       "    <tr>\n",
       "      <th>2864</th>\n",
       "      <td>44.000000</td>\n",
       "      <td>2.830000</td>\n",
       "      <td>3.500000</td>\n",
       "      <td>1.680000</td>\n",
       "      <td>112.000000</td>\n",
       "      <td>686.000000</td>\n",
       "      <td>21.000000</td>\n",
       "      <td>4.920000</td>\n",
       "    </tr>\n",
       "    <tr>\n",
       "      <th>2865</th>\n",
       "      <td>20.988386</td>\n",
       "      <td>3.607834</td>\n",
       "      <td>1.568557</td>\n",
       "      <td>1.388669</td>\n",
       "      <td>83.479906</td>\n",
       "      <td>346.339984</td>\n",
       "      <td>22.965486</td>\n",
       "      <td>5.144656</td>\n",
       "    </tr>\n",
       "  </tbody>\n",
       "</table>\n",
       "<p>2866 rows × 8 columns</p>\n",
       "</div>"
      ],
      "text/plain": [
       "      丙氨酸氨基转移酶(ALT)  低密度脂蛋白(LDL)  甘油三脂(TG)  高密度脂蛋白(HDL)      肌酐(Cr)  \\\n",
       "0         20.988386     3.607834  1.568557     1.388669   83.479906   \n",
       "1         13.000000     3.390000  1.340000     1.332000   91.360000   \n",
       "2         13.000000     3.390000  1.340000     1.332000   91.360000   \n",
       "3         13.000000     3.390000  1.340000     1.332000   91.360000   \n",
       "4         13.000000     3.390000  1.340000     1.332000   91.360000   \n",
       "...             ...          ...       ...          ...         ...   \n",
       "2861      38.000000     3.680000  2.710000     1.760000   74.000000   \n",
       "2862      16.000000     3.770000  1.130000     1.640000   93.000000   \n",
       "2863      15.000000     2.580000  0.830000     1.150000   80.000000   \n",
       "2864      44.000000     2.830000  3.500000     1.680000  112.000000   \n",
       "2865      20.988386     3.607834  1.568557     1.388669   83.479906   \n",
       "\n",
       "          尿酸(UA)  天门冬丙氨酸氨基转移酶(AST)  总胆固醇(CHOL)  \n",
       "0     346.339984         22.965486    5.144656  \n",
       "1     381.520000         45.000000    5.936000  \n",
       "2     381.520000         45.000000    5.936000  \n",
       "3     381.520000         45.000000    5.936000  \n",
       "4     381.520000         45.000000    5.936000  \n",
       "...          ...               ...         ...  \n",
       "2861  347.000000         25.000000    6.450000  \n",
       "2862  357.000000         19.000000    6.590000  \n",
       "2863  296.000000         21.600000    4.640000  \n",
       "2864  686.000000         21.000000    4.920000  \n",
       "2865  346.339984         22.965486    5.144656  \n",
       "\n",
       "[2866 rows x 8 columns]"
      ]
     },
     "execution_count": 162,
     "metadata": {},
     "output_type": "execute_result"
    }
   ],
   "source": [
    "#使用knn填补缺失数据\n",
    "imputer = KNNImputer(missing_values=np.nan)\n",
    "df_dummy_knn = pd.DataFrame(imputer.fit_transform(df_dummy), columns=df_dummy.columns)\n",
    "df_dummy_knn"
   ]
  },
  {
   "cell_type": "code",
   "execution_count": 163,
   "id": "6fcf0396",
   "metadata": {},
   "outputs": [
    {
     "data": {
      "text/plain": [
       "丙氨酸氨基转移酶(ALT)       0\n",
       "低密度脂蛋白(LDL)         0\n",
       "甘油三脂(TG)            0\n",
       "高密度脂蛋白(HDL)         0\n",
       "肌酐(Cr)              0\n",
       "尿酸(UA)              0\n",
       "天门冬丙氨酸氨基转移酶(AST)    0\n",
       "总胆固醇(CHOL)          0\n",
       "dtype: int64"
      ]
     },
     "execution_count": 163,
     "metadata": {},
     "output_type": "execute_result"
    }
   ],
   "source": [
    "df_dummy_knn.isnull().sum()"
   ]
  },
  {
   "cell_type": "markdown",
   "id": "fa3fc618",
   "metadata": {},
   "source": [
    "# 填补后数据 vs 填补前"
   ]
  },
  {
   "cell_type": "code",
   "execution_count": 164,
   "id": "fdfa826c",
   "metadata": {},
   "outputs": [
    {
     "data": {
      "text/html": [
       "<div>\n",
       "<style scoped>\n",
       "    .dataframe tbody tr th:only-of-type {\n",
       "        vertical-align: middle;\n",
       "    }\n",
       "\n",
       "    .dataframe tbody tr th {\n",
       "        vertical-align: top;\n",
       "    }\n",
       "\n",
       "    .dataframe thead th {\n",
       "        text-align: right;\n",
       "    }\n",
       "</style>\n",
       "<table border=\"1\" class=\"dataframe\">\n",
       "  <thead>\n",
       "    <tr style=\"text-align: right;\">\n",
       "      <th></th>\n",
       "      <th>丙氨酸氨基转移酶(ALT)</th>\n",
       "      <th>低密度脂蛋白(LDL)</th>\n",
       "      <th>甘油三脂(TG)</th>\n",
       "      <th>高密度脂蛋白(HDL)</th>\n",
       "      <th>肌酐(Cr)</th>\n",
       "      <th>尿酸(UA)</th>\n",
       "      <th>天门冬丙氨酸氨基转移酶(AST)</th>\n",
       "      <th>总胆固醇(CHOL)</th>\n",
       "    </tr>\n",
       "  </thead>\n",
       "  <tbody>\n",
       "    <tr>\n",
       "      <th>count</th>\n",
       "      <td>2583.000000</td>\n",
       "      <td>1039.000000</td>\n",
       "      <td>1303.000000</td>\n",
       "      <td>616.000000</td>\n",
       "      <td>1697.000000</td>\n",
       "      <td>1238.000000</td>\n",
       "      <td>2202.000000</td>\n",
       "      <td>1293.000000</td>\n",
       "    </tr>\n",
       "    <tr>\n",
       "      <th>mean</th>\n",
       "      <td>20.988386</td>\n",
       "      <td>3.607834</td>\n",
       "      <td>1.568557</td>\n",
       "      <td>1.388669</td>\n",
       "      <td>83.479906</td>\n",
       "      <td>346.339984</td>\n",
       "      <td>22.965486</td>\n",
       "      <td>5.144656</td>\n",
       "    </tr>\n",
       "    <tr>\n",
       "      <th>std</th>\n",
       "      <td>21.247679</td>\n",
       "      <td>8.751723</td>\n",
       "      <td>1.258682</td>\n",
       "      <td>0.274052</td>\n",
       "      <td>19.140982</td>\n",
       "      <td>100.134474</td>\n",
       "      <td>11.747405</td>\n",
       "      <td>0.897811</td>\n",
       "    </tr>\n",
       "    <tr>\n",
       "      <th>min</th>\n",
       "      <td>2.000000</td>\n",
       "      <td>0.740000</td>\n",
       "      <td>0.310000</td>\n",
       "      <td>0.780000</td>\n",
       "      <td>32.000000</td>\n",
       "      <td>127.700000</td>\n",
       "      <td>1.000000</td>\n",
       "      <td>2.270000</td>\n",
       "    </tr>\n",
       "    <tr>\n",
       "      <th>25%</th>\n",
       "      <td>11.000000</td>\n",
       "      <td>2.400000</td>\n",
       "      <td>0.850000</td>\n",
       "      <td>1.200000</td>\n",
       "      <td>67.000000</td>\n",
       "      <td>273.000000</td>\n",
       "      <td>17.000000</td>\n",
       "      <td>4.590000</td>\n",
       "    </tr>\n",
       "    <tr>\n",
       "      <th>50%</th>\n",
       "      <td>16.000000</td>\n",
       "      <td>2.970000</td>\n",
       "      <td>1.320000</td>\n",
       "      <td>1.400000</td>\n",
       "      <td>83.000000</td>\n",
       "      <td>340.000000</td>\n",
       "      <td>22.000000</td>\n",
       "      <td>5.090000</td>\n",
       "    </tr>\n",
       "    <tr>\n",
       "      <th>75%</th>\n",
       "      <td>23.000000</td>\n",
       "      <td>3.405000</td>\n",
       "      <td>1.900000</td>\n",
       "      <td>1.550000</td>\n",
       "      <td>98.000000</td>\n",
       "      <td>398.750000</td>\n",
       "      <td>27.000000</td>\n",
       "      <td>5.620000</td>\n",
       "    </tr>\n",
       "    <tr>\n",
       "      <th>max</th>\n",
       "      <td>521.000000</td>\n",
       "      <td>143.100000</td>\n",
       "      <td>25.650000</td>\n",
       "      <td>2.490000</td>\n",
       "      <td>139.100000</td>\n",
       "      <td>818.000000</td>\n",
       "      <td>286.000000</td>\n",
       "      <td>8.560000</td>\n",
       "    </tr>\n",
       "  </tbody>\n",
       "</table>\n",
       "</div>"
      ],
      "text/plain": [
       "       丙氨酸氨基转移酶(ALT)  低密度脂蛋白(LDL)     甘油三脂(TG)  高密度脂蛋白(HDL)       肌酐(Cr)  \\\n",
       "count    2583.000000  1039.000000  1303.000000   616.000000  1697.000000   \n",
       "mean       20.988386     3.607834     1.568557     1.388669    83.479906   \n",
       "std        21.247679     8.751723     1.258682     0.274052    19.140982   \n",
       "min         2.000000     0.740000     0.310000     0.780000    32.000000   \n",
       "25%        11.000000     2.400000     0.850000     1.200000    67.000000   \n",
       "50%        16.000000     2.970000     1.320000     1.400000    83.000000   \n",
       "75%        23.000000     3.405000     1.900000     1.550000    98.000000   \n",
       "max       521.000000   143.100000    25.650000     2.490000   139.100000   \n",
       "\n",
       "            尿酸(UA)  天门冬丙氨酸氨基转移酶(AST)   总胆固醇(CHOL)  \n",
       "count  1238.000000       2202.000000  1293.000000  \n",
       "mean    346.339984         22.965486     5.144656  \n",
       "std     100.134474         11.747405     0.897811  \n",
       "min     127.700000          1.000000     2.270000  \n",
       "25%     273.000000         17.000000     4.590000  \n",
       "50%     340.000000         22.000000     5.090000  \n",
       "75%     398.750000         27.000000     5.620000  \n",
       "max     818.000000        286.000000     8.560000  "
      ]
     },
     "execution_count": 164,
     "metadata": {},
     "output_type": "execute_result"
    }
   ],
   "source": [
    "df[float_cols].describe()"
   ]
  },
  {
   "cell_type": "code",
   "execution_count": 165,
   "id": "5d52adf3",
   "metadata": {},
   "outputs": [
    {
     "data": {
      "text/html": [
       "<div>\n",
       "<style scoped>\n",
       "    .dataframe tbody tr th:only-of-type {\n",
       "        vertical-align: middle;\n",
       "    }\n",
       "\n",
       "    .dataframe tbody tr th {\n",
       "        vertical-align: top;\n",
       "    }\n",
       "\n",
       "    .dataframe thead th {\n",
       "        text-align: right;\n",
       "    }\n",
       "</style>\n",
       "<table border=\"1\" class=\"dataframe\">\n",
       "  <thead>\n",
       "    <tr style=\"text-align: right;\">\n",
       "      <th></th>\n",
       "      <th>丙氨酸氨基转移酶(ALT)</th>\n",
       "      <th>低密度脂蛋白(LDL)</th>\n",
       "      <th>甘油三脂(TG)</th>\n",
       "      <th>高密度脂蛋白(HDL)</th>\n",
       "      <th>肌酐(Cr)</th>\n",
       "      <th>尿酸(UA)</th>\n",
       "      <th>天门冬丙氨酸氨基转移酶(AST)</th>\n",
       "      <th>总胆固醇(CHOL)</th>\n",
       "    </tr>\n",
       "  </thead>\n",
       "  <tbody>\n",
       "    <tr>\n",
       "      <th>count</th>\n",
       "      <td>2866.000000</td>\n",
       "      <td>2866.000000</td>\n",
       "      <td>2866.000000</td>\n",
       "      <td>2866.000000</td>\n",
       "      <td>2866.000000</td>\n",
       "      <td>2866.000000</td>\n",
       "      <td>2866.000000</td>\n",
       "      <td>2866.000000</td>\n",
       "    </tr>\n",
       "    <tr>\n",
       "      <th>mean</th>\n",
       "      <td>20.930151</td>\n",
       "      <td>3.632869</td>\n",
       "      <td>1.529481</td>\n",
       "      <td>1.387581</td>\n",
       "      <td>83.217606</td>\n",
       "      <td>342.029650</td>\n",
       "      <td>23.058938</td>\n",
       "      <td>5.106201</td>\n",
       "    </tr>\n",
       "    <tr>\n",
       "      <th>std</th>\n",
       "      <td>20.193557</td>\n",
       "      <td>6.629141</td>\n",
       "      <td>0.992743</td>\n",
       "      <td>0.177747</td>\n",
       "      <td>16.531327</td>\n",
       "      <td>82.454617</td>\n",
       "      <td>10.535880</td>\n",
       "      <td>0.727530</td>\n",
       "    </tr>\n",
       "    <tr>\n",
       "      <th>min</th>\n",
       "      <td>2.000000</td>\n",
       "      <td>0.740000</td>\n",
       "      <td>0.310000</td>\n",
       "      <td>0.780000</td>\n",
       "      <td>32.000000</td>\n",
       "      <td>127.700000</td>\n",
       "      <td>1.000000</td>\n",
       "      <td>2.270000</td>\n",
       "    </tr>\n",
       "    <tr>\n",
       "      <th>25%</th>\n",
       "      <td>12.000000</td>\n",
       "      <td>2.538000</td>\n",
       "      <td>0.956000</td>\n",
       "      <td>1.306000</td>\n",
       "      <td>72.000000</td>\n",
       "      <td>287.540000</td>\n",
       "      <td>18.000000</td>\n",
       "      <td>4.670500</td>\n",
       "    </tr>\n",
       "    <tr>\n",
       "      <th>50%</th>\n",
       "      <td>17.000000</td>\n",
       "      <td>2.938000</td>\n",
       "      <td>1.342000</td>\n",
       "      <td>1.388669</td>\n",
       "      <td>83.479906</td>\n",
       "      <td>342.900000</td>\n",
       "      <td>22.965486</td>\n",
       "      <td>5.100000</td>\n",
       "    </tr>\n",
       "    <tr>\n",
       "      <th>75%</th>\n",
       "      <td>23.000000</td>\n",
       "      <td>3.398000</td>\n",
       "      <td>1.708000</td>\n",
       "      <td>1.454000</td>\n",
       "      <td>93.400000</td>\n",
       "      <td>383.925000</td>\n",
       "      <td>26.000000</td>\n",
       "      <td>5.400000</td>\n",
       "    </tr>\n",
       "    <tr>\n",
       "      <th>max</th>\n",
       "      <td>521.000000</td>\n",
       "      <td>143.100000</td>\n",
       "      <td>25.650000</td>\n",
       "      <td>2.490000</td>\n",
       "      <td>139.100000</td>\n",
       "      <td>818.000000</td>\n",
       "      <td>286.000000</td>\n",
       "      <td>8.560000</td>\n",
       "    </tr>\n",
       "  </tbody>\n",
       "</table>\n",
       "</div>"
      ],
      "text/plain": [
       "       丙氨酸氨基转移酶(ALT)  低密度脂蛋白(LDL)     甘油三脂(TG)  高密度脂蛋白(HDL)       肌酐(Cr)  \\\n",
       "count    2866.000000  2866.000000  2866.000000  2866.000000  2866.000000   \n",
       "mean       20.930151     3.632869     1.529481     1.387581    83.217606   \n",
       "std        20.193557     6.629141     0.992743     0.177747    16.531327   \n",
       "min         2.000000     0.740000     0.310000     0.780000    32.000000   \n",
       "25%        12.000000     2.538000     0.956000     1.306000    72.000000   \n",
       "50%        17.000000     2.938000     1.342000     1.388669    83.479906   \n",
       "75%        23.000000     3.398000     1.708000     1.454000    93.400000   \n",
       "max       521.000000   143.100000    25.650000     2.490000   139.100000   \n",
       "\n",
       "            尿酸(UA)  天门冬丙氨酸氨基转移酶(AST)   总胆固醇(CHOL)  \n",
       "count  2866.000000       2866.000000  2866.000000  \n",
       "mean    342.029650         23.058938     5.106201  \n",
       "std      82.454617         10.535880     0.727530  \n",
       "min     127.700000          1.000000     2.270000  \n",
       "25%     287.540000         18.000000     4.670500  \n",
       "50%     342.900000         22.965486     5.100000  \n",
       "75%     383.925000         26.000000     5.400000  \n",
       "max     818.000000        286.000000     8.560000  "
      ]
     },
     "execution_count": 165,
     "metadata": {},
     "output_type": "execute_result"
    }
   ],
   "source": [
    "df_dummy_knn.describe()"
   ]
  },
  {
   "cell_type": "code",
   "execution_count": 166,
   "id": "46c4de22",
   "metadata": {},
   "outputs": [
    {
     "data": {
      "text/plain": [
       "Index(['count', 'mean', 'std', 'min', '25%', '50%', '75%', 'max'], dtype='object')"
      ]
     },
     "execution_count": 166,
     "metadata": {},
     "output_type": "execute_result"
    }
   ],
   "source": [
    "df_dummy_knn.describe().index"
   ]
  },
  {
   "cell_type": "code",
   "execution_count": 167,
   "id": "93cdbd09",
   "metadata": {},
   "outputs": [
    {
     "data": {
      "text/plain": [
       "Index(['丙氨酸氨基转移酶(ALT)', '低密度脂蛋白(LDL)', '甘油三脂(TG)', '高密度脂蛋白(HDL)', '肌酐(Cr)',\n",
       "       '尿酸(UA)', '天门冬丙氨酸氨基转移酶(AST)', '总胆固醇(CHOL)'],\n",
       "      dtype='object')"
      ]
     },
     "execution_count": 167,
     "metadata": {},
     "output_type": "execute_result"
    }
   ],
   "source": [
    "df_dummy_knn.columns"
   ]
  },
  {
   "cell_type": "code",
   "execution_count": 168,
   "id": "1d139657",
   "metadata": {},
   "outputs": [
    {
     "data": {
      "text/plain": [
       "Index(['单位', '体检编号', '体检次数', '体检流水号_x', '姓名_x', '性别_x', '年龄_x', '电话', '体检日期',\n",
       "       '25羟维生素D',\n",
       "       ...\n",
       "       '出院日期', '入院诊断', '出院诊断', '出院医嘱', '年龄_y', '性别_y', '姓名_y.1', '身份证',\n",
       "       '体检流水号_y', 'target'],\n",
       "      dtype='object', length=164)"
      ]
     },
     "execution_count": 168,
     "metadata": {},
     "output_type": "execute_result"
    }
   ],
   "source": [
    "df.columns"
   ]
  },
  {
   "cell_type": "code",
   "execution_count": 169,
   "id": "0b7a5a8e",
   "metadata": {},
   "outputs": [
    {
     "name": "stderr",
     "output_type": "stream",
     "text": [
      "Glyph 19993 missing from current font.\n",
      "Glyph 27688 missing from current font.\n",
      "Glyph 37240 missing from current font.\n",
      "Glyph 22522 missing from current font.\n",
      "Glyph 36716 missing from current font.\n",
      "Glyph 31227 missing from current font.\n",
      "Glyph 37238 missing from current font.\n",
      "Glyph 19993 missing from current font.\n",
      "Glyph 27688 missing from current font.\n",
      "Glyph 37240 missing from current font.\n",
      "Glyph 22522 missing from current font.\n",
      "Glyph 36716 missing from current font.\n",
      "Glyph 31227 missing from current font.\n",
      "Glyph 37238 missing from current font.\n"
     ]
    },
    {
     "data": {
      "image/png": "[encoded data removed]",
      "text/plain": [
       "<Figure size 432x288 with 1 Axes>"
      ]
     },
     "metadata": {
      "needs_background": "light"
     },
     "output_type": "display_data"
    },
    {
     "name": "stderr",
     "output_type": "stream",
     "text": [
      "Glyph 20302 missing from current font.\n",
      "Glyph 23494 missing from current font.\n",
      "Glyph 24230 missing from current font.\n",
      "Glyph 33026 missing from current font.\n",
      "Glyph 34507 missing from current font.\n",
      "Glyph 30333 missing from current font.\n",
      "Glyph 20302 missing from current font.\n",
      "Glyph 23494 missing from current font.\n",
      "Glyph 24230 missing from current font.\n",
      "Glyph 33026 missing from current font.\n",
      "Glyph 34507 missing from current font.\n",
      "Glyph 30333 missing from current font.\n"
     ]
    },
    {
     "data": {
      "image/png": "[encoded data removed]",
      "text/plain": [
       "<Figure size 432x288 with 1 Axes>"
      ]
     },
     "metadata": {
      "needs_background": "light"
     },
     "output_type": "display_data"
    },
    {
     "name": "stderr",
     "output_type": "stream",
     "text": [
      "Glyph 29976 missing from current font.\n",
      "Glyph 27833 missing from current font.\n",
      "Glyph 19977 missing from current font.\n",
      "Glyph 29976 missing from current font.\n",
      "Glyph 27833 missing from current font.\n",
      "Glyph 19977 missing from current font.\n"
     ]
    },
    {
     "data": {
      "image/png": "[encoded data removed]",
      "text/plain": [
       "<Figure size 432x288 with 1 Axes>"
      ]
     },
     "metadata": {
      "needs_background": "light"
     },
     "output_type": "display_data"
    },
    {
     "name": "stderr",
     "output_type": "stream",
     "text": [
      "Glyph 39640 missing from current font.\n",
      "Glyph 39640 missing from current font.\n"
     ]
    },
    {
     "data": {
      "image/png": "[encoded data removed]",
      "text/plain": [
       "<Figure size 432x288 with 1 Axes>"
      ]
     },
     "metadata": {
      "needs_background": "light"
     },
     "output_type": "display_data"
    },
    {
     "name": "stderr",
     "output_type": "stream",
     "text": [
      "Glyph 32908 missing from current font.\n",
      "Glyph 37200 missing from current font.\n",
      "Glyph 32908 missing from current font.\n",
      "Glyph 37200 missing from current font.\n"
     ]
    },
    {
     "data": {
      "image/png": "[encoded data removed]",
      "text/plain": [
       "<Figure size 432x288 with 1 Axes>"
      ]
     },
     "metadata": {
      "needs_background": "light"
     },
     "output_type": "display_data"
    },
    {
     "name": "stderr",
     "output_type": "stream",
     "text": [
      "Glyph 23615 missing from current font.\n",
      "Glyph 23615 missing from current font.\n"
     ]
    },
    {
     "data": {
      "image/png": "[encoded data removed]",
      "text/plain": [
       "<Figure size 432x288 with 1 Axes>"
      ]
     },
     "metadata": {
      "needs_background": "light"
     },
     "output_type": "display_data"
    },
    {
     "name": "stderr",
     "output_type": "stream",
     "text": [
      "Glyph 22825 missing from current font.\n",
      "Glyph 38376 missing from current font.\n",
      "Glyph 20908 missing from current font.\n",
      "Glyph 22825 missing from current font.\n",
      "Glyph 38376 missing from current font.\n",
      "Glyph 20908 missing from current font.\n"
     ]
    },
    {
     "data": {
      "image/png": "[encoded data removed]",
      "text/plain": [
       "<Figure size 432x288 with 1 Axes>"
      ]
     },
     "metadata": {
      "needs_background": "light"
     },
     "output_type": "display_data"
    },
    {
     "name": "stderr",
     "output_type": "stream",
     "text": [
      "Glyph 24635 missing from current font.\n",
      "Glyph 32966 missing from current font.\n",
      "Glyph 22266 missing from current font.\n",
      "Glyph 37255 missing from current font.\n",
      "Glyph 24635 missing from current font.\n",
      "Glyph 32966 missing from current font.\n",
      "Glyph 22266 missing from current font.\n",
      "Glyph 37255 missing from current font.\n"
     ]
    },
    {
     "data": {
      "image/png": "[encoded data removed]",
      "text/plain": [
       "<Figure size 432x288 with 1 Axes>"
      ]
     },
     "metadata": {
      "needs_background": "light"
     },
     "output_type": "display_data"
    }
   ],
   "source": [
    "# Calculate summary statistics\n",
    "df_dummy_knn_stats = df_dummy_knn.describe()\n",
    "df_stats = df[float_cols].describe()\n",
    "\n",
    "# Define custom colors for bars\n",
    "colors = ['#1f77b4', '#ff7f0e']\n",
    "# Create bar plots of summary statistics\n",
    "for col in df_stats.columns:\n",
    "    fig, ax = plt.subplots()\n",
    "    ax.bar(['df', 'df_dummy_knn'], [df_stats[col]['mean'], df_dummy_knn_stats[col]['mean']], yerr=[df_stats[col]['std'], df_dummy_knn_stats[col]['std']], capsize=10, color=colors)\n",
    "    ax.set_ylabel(col)\n",
    "    ax.set_title(f'{col} Comparison')\n",
    "    ax.spines['top'].set_visible(False)\n",
    "    ax.spines['right'].set_visible(False)\n",
    "    # Add labels for mean and std\n",
    "    ax.text(0, df_stats[col]['mean']+0.5, f\"{df_stats[col]['mean']:.2f}\", ha='center', fontsize=12)\n",
    "    ax.text(1, df_dummy_knn_stats[col]['mean']+0.5, f\"{df_dummy_knn_stats[col]['mean']:.2f}\", ha='center', fontsize=12)\n",
    "    ax.text(0, df_stats[col]['mean']-1.5, f\"std: {df_stats[col]['std']:.2f}\", ha='center', fontsize=10)\n",
    "    ax.text(1, df_dummy_knn_stats[col]['mean']-1.5, f\"std: {df_dummy_knn_stats[col]['std']:.2f}\", ha='center', fontsize=10)\n",
    "    plt.xticks(rotation=45)\n",
    "    plt.show()"
   ]
  },
  {
   "cell_type": "code",
   "execution_count": 170,
   "id": "3f1d2858",
   "metadata": {},
   "outputs": [
    {
     "data": {
      "text/html": [
       "<div>\n",
       "<style scoped>\n",
       "    .dataframe tbody tr th:only-of-type {\n",
       "        vertical-align: middle;\n",
       "    }\n",
       "\n",
       "    .dataframe tbody tr th {\n",
       "        vertical-align: top;\n",
       "    }\n",
       "\n",
       "    .dataframe thead th {\n",
       "        text-align: right;\n",
       "    }\n",
       "</style>\n",
       "<table border=\"1\" class=\"dataframe\">\n",
       "  <thead>\n",
       "    <tr style=\"text-align: right;\">\n",
       "      <th></th>\n",
       "      <th>丙氨酸氨基转移酶(ALT)</th>\n",
       "      <th>低密度脂蛋白(LDL)</th>\n",
       "      <th>甘油三脂(TG)</th>\n",
       "      <th>高密度脂蛋白(HDL)</th>\n",
       "      <th>肌酐(Cr)</th>\n",
       "      <th>尿酸(UA)</th>\n",
       "      <th>天门冬丙氨酸氨基转移酶(AST)</th>\n",
       "      <th>总胆固醇(CHOL)</th>\n",
       "    </tr>\n",
       "  </thead>\n",
       "  <tbody>\n",
       "    <tr>\n",
       "      <th>778</th>\n",
       "      <td>20.988386</td>\n",
       "      <td>3.607834</td>\n",
       "      <td>1.568557</td>\n",
       "      <td>1.388669</td>\n",
       "      <td>83.479906</td>\n",
       "      <td>346.339984</td>\n",
       "      <td>22.965486</td>\n",
       "      <td>5.144656</td>\n",
       "    </tr>\n",
       "    <tr>\n",
       "      <th>1740</th>\n",
       "      <td>18.000000</td>\n",
       "      <td>2.250000</td>\n",
       "      <td>3.936000</td>\n",
       "      <td>1.110000</td>\n",
       "      <td>103.000000</td>\n",
       "      <td>311.800000</td>\n",
       "      <td>12.000000</td>\n",
       "      <td>4.392000</td>\n",
       "    </tr>\n",
       "    <tr>\n",
       "      <th>2248</th>\n",
       "      <td>49.000000</td>\n",
       "      <td>3.080000</td>\n",
       "      <td>3.750000</td>\n",
       "      <td>1.522000</td>\n",
       "      <td>102.000000</td>\n",
       "      <td>411.000000</td>\n",
       "      <td>28.000000</td>\n",
       "      <td>8.050000</td>\n",
       "    </tr>\n",
       "    <tr>\n",
       "      <th>1338</th>\n",
       "      <td>20.000000</td>\n",
       "      <td>3.510000</td>\n",
       "      <td>0.960000</td>\n",
       "      <td>1.454000</td>\n",
       "      <td>88.000000</td>\n",
       "      <td>350.000000</td>\n",
       "      <td>24.000000</td>\n",
       "      <td>5.310000</td>\n",
       "    </tr>\n",
       "    <tr>\n",
       "      <th>2332</th>\n",
       "      <td>14.000000</td>\n",
       "      <td>2.340000</td>\n",
       "      <td>0.530000</td>\n",
       "      <td>1.890000</td>\n",
       "      <td>62.000000</td>\n",
       "      <td>326.000000</td>\n",
       "      <td>25.000000</td>\n",
       "      <td>4.760000</td>\n",
       "    </tr>\n",
       "    <tr>\n",
       "      <th>...</th>\n",
       "      <td>...</td>\n",
       "      <td>...</td>\n",
       "      <td>...</td>\n",
       "      <td>...</td>\n",
       "      <td>...</td>\n",
       "      <td>...</td>\n",
       "      <td>...</td>\n",
       "      <td>...</td>\n",
       "    </tr>\n",
       "    <tr>\n",
       "      <th>2009</th>\n",
       "      <td>18.000000</td>\n",
       "      <td>3.398000</td>\n",
       "      <td>1.470000</td>\n",
       "      <td>1.454000</td>\n",
       "      <td>113.000000</td>\n",
       "      <td>516.000000</td>\n",
       "      <td>24.000000</td>\n",
       "      <td>5.230000</td>\n",
       "    </tr>\n",
       "    <tr>\n",
       "      <th>1180</th>\n",
       "      <td>15.000000</td>\n",
       "      <td>2.068000</td>\n",
       "      <td>0.670000</td>\n",
       "      <td>1.454000</td>\n",
       "      <td>65.000000</td>\n",
       "      <td>285.000000</td>\n",
       "      <td>25.000000</td>\n",
       "      <td>5.360000</td>\n",
       "    </tr>\n",
       "    <tr>\n",
       "      <th>1344</th>\n",
       "      <td>8.000000</td>\n",
       "      <td>2.776000</td>\n",
       "      <td>1.322000</td>\n",
       "      <td>1.186000</td>\n",
       "      <td>86.000000</td>\n",
       "      <td>289.260000</td>\n",
       "      <td>24.200000</td>\n",
       "      <td>5.094000</td>\n",
       "    </tr>\n",
       "    <tr>\n",
       "      <th>527</th>\n",
       "      <td>13.000000</td>\n",
       "      <td>2.658000</td>\n",
       "      <td>1.376000</td>\n",
       "      <td>1.450000</td>\n",
       "      <td>93.400000</td>\n",
       "      <td>316.140000</td>\n",
       "      <td>21.000000</td>\n",
       "      <td>5.140000</td>\n",
       "    </tr>\n",
       "    <tr>\n",
       "      <th>1289</th>\n",
       "      <td>20.988386</td>\n",
       "      <td>3.607834</td>\n",
       "      <td>1.568557</td>\n",
       "      <td>1.388669</td>\n",
       "      <td>83.479906</td>\n",
       "      <td>346.339984</td>\n",
       "      <td>22.965486</td>\n",
       "      <td>5.144656</td>\n",
       "    </tr>\n",
       "  </tbody>\n",
       "</table>\n",
       "<p>2292 rows × 8 columns</p>\n",
       "</div>"
      ],
      "text/plain": [
       "      丙氨酸氨基转移酶(ALT)  低密度脂蛋白(LDL)  甘油三脂(TG)  高密度脂蛋白(HDL)      肌酐(Cr)  \\\n",
       "778       20.988386     3.607834  1.568557     1.388669   83.479906   \n",
       "1740      18.000000     2.250000  3.936000     1.110000  103.000000   \n",
       "2248      49.000000     3.080000  3.750000     1.522000  102.000000   \n",
       "1338      20.000000     3.510000  0.960000     1.454000   88.000000   \n",
       "2332      14.000000     2.340000  0.530000     1.890000   62.000000   \n",
       "...             ...          ...       ...          ...         ...   \n",
       "2009      18.000000     3.398000  1.470000     1.454000  113.000000   \n",
       "1180      15.000000     2.068000  0.670000     1.454000   65.000000   \n",
       "1344       8.000000     2.776000  1.322000     1.186000   86.000000   \n",
       "527       13.000000     2.658000  1.376000     1.450000   93.400000   \n",
       "1289      20.988386     3.607834  1.568557     1.388669   83.479906   \n",
       "\n",
       "          尿酸(UA)  天门冬丙氨酸氨基转移酶(AST)  总胆固醇(CHOL)  \n",
       "778   346.339984         22.965486    5.144656  \n",
       "1740  311.800000         12.000000    4.392000  \n",
       "2248  411.000000         28.000000    8.050000  \n",
       "1338  350.000000         24.000000    5.310000  \n",
       "2332  326.000000         25.000000    4.760000  \n",
       "...          ...               ...         ...  \n",
       "2009  516.000000         24.000000    5.230000  \n",
       "1180  285.000000         25.000000    5.360000  \n",
       "1344  289.260000         24.200000    5.094000  \n",
       "527   316.140000         21.000000    5.140000  \n",
       "1289  346.339984         22.965486    5.144656  \n",
       "\n",
       "[2292 rows x 8 columns]"
      ]
     },
     "execution_count": 170,
     "metadata": {},
     "output_type": "execute_result"
    }
   ],
   "source": [
    "#split into training and testing data\n",
    "X_train, X_test, y_train, y_test = train_test_split(df_dummy_knn, y, test_size = .2, random_state=10)\n",
    "X_train"
   ]
  },
  {
   "cell_type": "code",
   "execution_count": 171,
   "id": "dda96be8",
   "metadata": {},
   "outputs": [
    {
     "data": {
      "text/plain": [
       "0    1949\n",
       "1     343\n",
       "Name: target, dtype: int64"
      ]
     },
     "execution_count": 171,
     "metadata": {},
     "output_type": "execute_result"
    }
   ],
   "source": [
    "y_train.value_counts()"
   ]
  },
  {
   "cell_type": "code",
   "execution_count": 172,
   "id": "297a8373",
   "metadata": {},
   "outputs": [
    {
     "data": {
      "text/plain": [
       "0    499\n",
       "1     75\n",
       "Name: target, dtype: int64"
      ]
     },
     "execution_count": 172,
     "metadata": {},
     "output_type": "execute_result"
    }
   ],
   "source": [
    "y_test.value_counts()"
   ]
  },
  {
   "cell_type": "code",
   "execution_count": 173,
   "id": "659115e3",
   "metadata": {},
   "outputs": [
    {
     "name": "stderr",
     "output_type": "stream",
     "text": [
      "Glyph 19993 missing from current font.\n",
      "Glyph 27688 missing from current font.\n",
      "Glyph 37240 missing from current font.\n",
      "Glyph 22522 missing from current font.\n",
      "Glyph 36716 missing from current font.\n",
      "Glyph 31227 missing from current font.\n",
      "Glyph 37238 missing from current font.\n",
      "Glyph 19993 missing from current font.\n",
      "Glyph 27688 missing from current font.\n",
      "Glyph 37240 missing from current font.\n",
      "Glyph 22522 missing from current font.\n",
      "Glyph 36716 missing from current font.\n",
      "Glyph 31227 missing from current font.\n",
      "Glyph 37238 missing from current font.\n"
     ]
    },
    {
     "data": {
      "image/png": "[encoded data removed]",
      "text/plain": [
       "<Figure size 432x288 with 1 Axes>"
      ]
     },
     "metadata": {
      "needs_background": "light"
     },
     "output_type": "display_data"
    },
    {
     "name": "stderr",
     "output_type": "stream",
     "text": [
      "Glyph 20302 missing from current font.\n",
      "Glyph 23494 missing from current font.\n",
      "Glyph 24230 missing from current font.\n",
      "Glyph 33026 missing from current font.\n",
      "Glyph 34507 missing from current font.\n",
      "Glyph 30333 missing from current font.\n",
      "Glyph 20302 missing from current font.\n",
      "Glyph 23494 missing from current font.\n",
      "Glyph 24230 missing from current font.\n",
      "Glyph 33026 missing from current font.\n",
      "Glyph 34507 missing from current font.\n",
      "Glyph 30333 missing from current font.\n"
     ]
    },
    {
     "data": {
      "image/png": "[encoded data removed]",
      "text/plain": [
       "<Figure size 432x288 with 1 Axes>"
      ]
     },
     "metadata": {
      "needs_background": "light"
     },
     "output_type": "display_data"
    },
    {
     "name": "stderr",
     "output_type": "stream",
     "text": [
      "Glyph 29976 missing from current font.\n",
      "Glyph 27833 missing from current font.\n",
      "Glyph 19977 missing from current font.\n",
      "Glyph 29976 missing from current font.\n",
      "Glyph 27833 missing from current font.\n",
      "Glyph 19977 missing from current font.\n"
     ]
    },
    {
     "data": {
      "image/png": "[encoded data removed]",
      "text/plain": [
       "<Figure size 432x288 with 1 Axes>"
      ]
     },
     "metadata": {
      "needs_background": "light"
     },
     "output_type": "display_data"
    },
    {
     "name": "stderr",
     "output_type": "stream",
     "text": [
      "Glyph 39640 missing from current font.\n",
      "Glyph 39640 missing from current font.\n"
     ]
    },
    {
     "data": {
      "image/png": "[encoded data removed]",
      "text/plain": [
       "<Figure size 432x288 with 1 Axes>"
      ]
     },
     "metadata": {
      "needs_background": "light"
     },
     "output_type": "display_data"
    },
    {
     "name": "stderr",
     "output_type": "stream",
     "text": [
      "Glyph 32908 missing from current font.\n",
      "Glyph 37200 missing from current font.\n",
      "Glyph 32908 missing from current font.\n",
      "Glyph 37200 missing from current font.\n"
     ]
    },
    {
     "data": {
      "image/png": "[encoded data removed]",
      "text/plain": [
       "<Figure size 432x288 with 1 Axes>"
      ]
     },
     "metadata": {
      "needs_background": "light"
     },
     "output_type": "display_data"
    },
    {
     "name": "stderr",
     "output_type": "stream",
     "text": [
      "Glyph 23615 missing from current font.\n",
      "Glyph 23615 missing from current font.\n"
     ]
    },
    {
     "data": {
      "image/png": "[encoded data removed]",
      "text/plain": [
       "<Figure size 432x288 with 1 Axes>"
      ]
     },
     "metadata": {
      "needs_background": "light"
     },
     "output_type": "display_data"
    },
    {
     "name": "stderr",
     "output_type": "stream",
     "text": [
      "Glyph 22825 missing from current font.\n",
      "Glyph 38376 missing from current font.\n",
      "Glyph 20908 missing from current font.\n",
      "Glyph 22825 missing from current font.\n",
      "Glyph 38376 missing from current font.\n",
      "Glyph 20908 missing from current font.\n"
     ]
    },
    {
     "data": {
      "image/png": "[encoded data removed]",
      "text/plain": [
       "<Figure size 432x288 with 1 Axes>"
      ]
     },
     "metadata": {
      "needs_background": "light"
     },
     "output_type": "display_data"
    },
    {
     "name": "stderr",
     "output_type": "stream",
     "text": [
      "Glyph 24635 missing from current font.\n",
      "Glyph 32966 missing from current font.\n",
      "Glyph 22266 missing from current font.\n",
      "Glyph 37255 missing from current font.\n",
      "Glyph 24635 missing from current font.\n",
      "Glyph 32966 missing from current font.\n",
      "Glyph 22266 missing from current font.\n",
      "Glyph 37255 missing from current font.\n"
     ]
    },
    {
     "data": {
      "image/png": "[encoded data removed]",
      "text/plain": [
       "<Figure size 432x288 with 1 Axes>"
      ]
     },
     "metadata": {
      "needs_background": "light"
     },
     "output_type": "display_data"
    }
   ],
   "source": [
    "#compare train and testing data\n",
    "# Calculate summary statistics\n",
    "df_dummy_knn_stats = X_train.describe()\n",
    "df_stats = X_test.describe()\n",
    "\n",
    "# Define custom colors for bars\n",
    "colors = ['#1f77b4', '#ff7f0e']\n",
    "# Create bar plots of summary statistics\n",
    "for col in df_stats.columns:\n",
    "    fig, ax = plt.subplots()\n",
    "    ax.bar(['df', 'df_dummy_knn'], [df_stats[col]['mean'], df_dummy_knn_stats[col]['mean']], yerr=[df_stats[col]['std'], df_dummy_knn_stats[col]['std']], capsize=10, color=colors)\n",
    "    ax.set_ylabel(col)\n",
    "    ax.set_title(f'{col} Comparison')\n",
    "    ax.spines['top'].set_visible(False)\n",
    "    ax.spines['right'].set_visible(False)\n",
    "    # Add labels for mean and std\n",
    "    ax.text(0, df_stats[col]['mean']+0.5, f\"{df_stats[col]['mean']:.2f}\", ha='center', fontsize=12)\n",
    "    ax.text(1, df_dummy_knn_stats[col]['mean']+0.5, f\"{df_dummy_knn_stats[col]['mean']:.2f}\", ha='center', fontsize=12)\n",
    "    ax.text(0, df_stats[col]['mean']-1.5, f\"std: {df_stats[col]['std']:.2f}\", ha='center', fontsize=10)\n",
    "    ax.text(1, df_dummy_knn_stats[col]['mean']-1.5, f\"std: {df_dummy_knn_stats[col]['std']:.2f}\", ha='center', fontsize=10)\n",
    "    plt.show()"
   ]
  },
  {
   "cell_type": "markdown",
   "id": "28f9df95",
   "metadata": {},
   "source": [
    "# Random Forest"
   ]
  },
  {
   "cell_type": "code",
   "execution_count": 38,
   "id": "da588426",
   "metadata": {},
   "outputs": [],
   "source": [
    "from sklearn.ensemble import RandomForestClassifier\n",
    "clf = RandomForestClassifier(n_estimators=50, random_state=0)"
   ]
  },
  {
   "cell_type": "code",
   "execution_count": 228,
   "id": "39ec0d52",
   "metadata": {},
   "outputs": [
    {
     "data": {
      "text/plain": [
       "0"
      ]
     },
     "execution_count": 228,
     "metadata": {},
     "output_type": "execute_result"
    }
   ],
   "source": [
    "y_train.isna().sum()"
   ]
  },
  {
   "cell_type": "code",
   "execution_count": 229,
   "id": "a5039187",
   "metadata": {},
   "outputs": [
    {
     "data": {
      "text/plain": [
       "RandomForestClassifier(n_estimators=50, random_state=0)"
      ]
     },
     "execution_count": 229,
     "metadata": {},
     "output_type": "execute_result"
    }
   ],
   "source": [
    "# 拟合模型\n",
    "clf.fit(X_train, y_train)"
   ]
  },
  {
   "cell_type": "code",
   "execution_count": 230,
   "id": "81731a9a",
   "metadata": {},
   "outputs": [
    {
     "data": {
      "text/plain": [
       "array([[483,  16],\n",
       "       [ 67,   8]])"
      ]
     },
     "execution_count": 230,
     "metadata": {},
     "output_type": "execute_result"
    }
   ],
   "source": [
    "y_pred = clf.predict(X_test)\n",
    "y_pred_quant = clf.predict_proba(X_test)[:, 1]\n",
    "cm = confusion_matrix(y_test, y_pred)\n",
    "cm"
   ]
  },
  {
   "cell_type": "code",
   "execution_count": 231,
   "id": "7b7b2f08",
   "metadata": {},
   "outputs": [
    {
     "name": "stdout",
     "output_type": "stream",
     "text": [
      "Sensitivity :  0.10666666666666667\n",
      "Specificity :  0.9679358717434869\n"
     ]
    }
   ],
   "source": [
    "tn, fp, fn, tp = confusion_matrix(y_test, y_pred).ravel()\n",
    "\n",
    "sensitivity = tp / (tp + fn)\n",
    "print('Sensitivity : ', sensitivity )\n",
    "\n",
    "specificity = tn / (fp + tn)\n",
    "print('Specificity : ', specificity)"
   ]
  },
  {
   "cell_type": "code",
   "execution_count": 232,
   "id": "2a582d77",
   "metadata": {},
   "outputs": [
    {
     "data": {
      "text/plain": [
       "<sklearn.metrics._plot.confusion_matrix.ConfusionMatrixDisplay at 0x7ff1b98af4c0>"
      ]
     },
     "execution_count": 232,
     "metadata": {},
     "output_type": "execute_result"
    },
    {
     "data": {
      "image/png": "[encoded data removed]",
      "text/plain": [
       "<Figure size 432x288 with 2 Axes>"
      ]
     },
     "metadata": {
      "needs_background": "light"
     },
     "output_type": "display_data"
    }
   ],
   "source": [
    "from sklearn.metrics import plot_confusion_matrix\n",
    "plot_confusion_matrix(clf, X_test, y_test)"
   ]
  },
  {
   "cell_type": "code",
   "execution_count": 233,
   "id": "8b919fe6",
   "metadata": {},
   "outputs": [
    {
     "data": {
      "text/plain": [
       "array([0.006     , 0.09765701, 0.23833333, 0.04666667, 0.20377193,\n",
       "       0.        , 0.13759285, 0.06860806, 0.24733333, 0.64444444,\n",
       "       0.04      , 0.06666667, 0.05285714, 0.04      , 0.        ,\n",
       "       0.028     , 0.02      , 0.        , 0.        , 0.        ,\n",
       "       0.01      , 0.08      , 0.19090837, 0.09690476, 0.15919658,\n",
       "       0.045     , 0.13759285, 0.08166667, 0.18471429, 0.14990285,\n",
       "       0.04607143, 0.        , 0.17928629, 0.40910514, 0.        ,\n",
       "       0.17039554, 0.28666667, 0.06363636, 0.27333333, 0.        ,\n",
       "       0.13759285, 0.07777273, 0.00812974, 0.13759285, 0.        ,\n",
       "       0.20360317, 0.06      , 0.01285714, 0.        , 0.02666667,\n",
       "       0.02      , 0.19090837, 0.36790476, 0.48166667, 0.02      ,\n",
       "       0.13133333, 0.02      , 0.025     , 0.        , 0.35096825,\n",
       "       0.78      , 0.04      , 0.02      , 0.04458333, 0.00761905,\n",
       "       0.0575    , 0.13759285, 0.005     , 0.2447619 , 0.231     ,\n",
       "       0.687     , 0.35      , 0.13759285, 0.388     , 0.15766667,\n",
       "       0.09733333, 0.        , 0.446     , 0.05      , 0.14804329,\n",
       "       0.        , 0.03785714, 0.13759285, 0.13759285, 0.13759285,\n",
       "       0.19681586, 0.00571429, 0.64333333, 0.09765701, 0.06166667,\n",
       "       0.47733333, 0.        , 0.08916667, 0.        , 0.        ,\n",
       "       0.03666667, 0.        , 0.13759285, 0.19681586, 0.41819006,\n",
       "       0.215     , 0.16904762, 0.23416361, 0.02619048, 0.13759285,\n",
       "       0.        , 0.12666667, 0.13066667, 0.07      , 0.29354762,\n",
       "       0.14501704, 0.        , 0.13759285, 0.006     , 0.05904762,\n",
       "       0.011     , 0.13759285, 0.25795543, 0.        , 0.05      ,\n",
       "       0.07201145, 0.34761905, 0.22719048, 0.131     , 0.90666667,\n",
       "       0.04      , 0.        , 0.03585714, 0.45633333, 0.18563492,\n",
       "       0.13759285, 0.16933333, 0.39490476, 0.12      , 0.0956746 ,\n",
       "       0.13759285, 0.13759285, 0.06909091, 0.28855556, 0.56330447,\n",
       "       0.        , 0.13759285, 0.0425    , 0.17280342, 0.17600794,\n",
       "       0.06      , 0.13759285, 0.241     , 0.        , 0.0225    ,\n",
       "       0.17928629, 0.19681586, 0.02      , 0.06166667, 0.17039554,\n",
       "       0.02      , 0.18563492, 0.01333333, 0.        , 0.92      ,\n",
       "       0.        , 0.14371429, 0.05333333, 0.07178161, 0.        ,\n",
       "       0.11048507, 0.05733333, 0.06466667, 0.18152381, 0.076     ,\n",
       "       0.13759285, 0.        , 0.27790476, 0.02      , 0.40366119,\n",
       "       0.17513889, 0.29516667, 0.10520147, 0.12566667, 0.16366955,\n",
       "       0.04      , 0.19833333, 0.13759285, 0.17928629, 0.02022222,\n",
       "       0.        , 0.        , 0.13759285, 0.13759285, 0.16666667,\n",
       "       0.26315873, 0.        , 0.09765701, 0.41819006, 0.04      ,\n",
       "       0.06      , 0.        , 0.20257143, 0.        , 0.04666667,\n",
       "       0.18235426, 0.        , 0.41819006, 0.03      , 0.06622222,\n",
       "       0.18916883, 0.        , 0.75333333, 0.42566667, 0.04      ,\n",
       "       0.148     , 0.10616941, 0.02514286, 0.        , 0.06909091,\n",
       "       0.        , 0.07709524, 0.        , 0.        , 0.14107699,\n",
       "       0.14804329, 0.035637  , 0.02      , 0.02748521, 0.098     ,\n",
       "       0.17622222, 0.05      , 0.13759285, 0.06551282, 0.        ,\n",
       "       0.005     , 0.        , 0.49446032, 0.17039554, 0.        ,\n",
       "       0.24090476, 0.        , 0.23416361, 0.13759285, 0.03785714,\n",
       "       0.18916883, 0.        , 0.14236075, 0.02666667, 0.31593851,\n",
       "       0.12035294, 0.06622222, 0.155     , 0.02      , 0.15680952,\n",
       "       0.13759285, 0.13759285, 0.07076923, 0.304     , 0.54463492,\n",
       "       0.03428571, 0.        , 0.13759285, 0.27      , 0.        ,\n",
       "       0.92      , 0.10841286, 0.08391004, 0.        , 0.08391004,\n",
       "       0.72166667, 0.29516667, 0.13759285, 0.        , 0.142     ,\n",
       "       0.66      , 0.31712454, 0.03666667, 0.2285    , 0.12748718,\n",
       "       0.17539033, 0.1166048 , 0.        , 0.        , 0.        ,\n",
       "       0.1166048 , 0.16211637, 0.09087681, 0.2618254 , 0.06551282,\n",
       "       0.15333333, 0.18387255, 0.06      , 0.13759285, 0.13692424,\n",
       "       0.015     , 0.19194872, 0.3205101 , 0.17039554, 0.1       ,\n",
       "       0.11970588, 0.08391004, 0.        , 0.        , 0.        ,\n",
       "       0.        , 0.        , 0.        , 0.07030303, 0.        ,\n",
       "       0.1375    , 0.13759285, 0.1362381 , 0.04      , 0.00666667,\n",
       "       0.19622222, 0.        , 0.13759285, 0.47433333, 0.33653175,\n",
       "       0.63752381, 0.31666667, 0.80733333, 0.        , 0.13476984,\n",
       "       0.14436652, 0.16333333, 0.        , 0.06507692, 0.        ,\n",
       "       0.13759285, 0.31593851, 0.        , 0.13759285, 0.1       ,\n",
       "       0.07785714, 0.06      , 0.06685714, 0.08521573, 0.11933333,\n",
       "       0.05      , 0.02333333, 0.41819006, 0.23416361, 0.13759285,\n",
       "       0.        , 0.1055873 , 0.20448413, 0.02      , 0.045     ,\n",
       "       0.32007143, 0.15666667, 0.11      , 0.50633333, 0.005     ,\n",
       "       0.33133333, 0.41819006, 0.044     , 0.13759285, 0.015     ,\n",
       "       0.482     , 0.        , 0.05333333, 0.16333333, 0.03785714,\n",
       "       0.16      , 0.44533333, 0.41238817, 0.02514286, 0.06167832,\n",
       "       0.02      , 0.13759285, 0.07201145, 0.03      , 0.18557359,\n",
       "       0.11207576, 0.164     , 0.        , 0.        , 0.005     ,\n",
       "       0.13759285, 0.17530366, 0.0675    , 0.1025    , 0.13759285,\n",
       "       0.15704762, 0.14107699, 0.34224892, 0.40910514, 0.00421053,\n",
       "       0.        , 0.37162328, 0.        , 0.13759285, 0.13759285,\n",
       "       0.3534359 , 0.04571429, 0.12566667, 0.41238817, 0.20261905,\n",
       "       0.30266667, 0.15166667, 0.26902381, 0.17039554, 0.72      ,\n",
       "       0.13759285, 0.195     , 0.        , 0.08391004, 0.08391004,\n",
       "       0.05404762, 0.19090837, 0.        , 0.        , 0.12166667,\n",
       "       0.        , 0.25223912, 0.        , 0.06      , 0.24752525,\n",
       "       0.09765701, 0.14280303, 0.        , 0.12      , 0.03333333,\n",
       "       0.49033333, 0.08391004, 0.06283552, 0.13759285, 0.03797619,\n",
       "       0.06      , 0.6       , 0.212     , 0.26315873, 0.65630252,\n",
       "       0.22966667, 0.11238095, 0.00738806, 0.17085714, 0.12966667,\n",
       "       0.25969697, 0.099     , 0.1615    , 0.        , 0.        ,\n",
       "       0.08      , 0.02      , 0.29122222, 0.        , 0.16190476,\n",
       "       0.08033333, 0.024     , 0.31593851, 0.08585714, 0.068     ,\n",
       "       0.17600794, 0.        , 0.06      , 0.615     , 0.07201145,\n",
       "       0.34720635, 0.13759285, 0.14107699, 0.        , 0.02      ,\n",
       "       0.26315873, 0.47733333, 0.        , 0.015     , 0.13487719,\n",
       "       0.29466667, 0.19033333, 0.08965385, 0.07017647, 0.07892308,\n",
       "       0.289     , 0.0689196 , 0.02285714, 0.13759285, 0.0225    ,\n",
       "       0.13759285, 0.06833333, 0.10593215, 0.005     , 0.        ,\n",
       "       0.28333333, 0.13759285, 0.        , 0.05333333, 0.304     ,\n",
       "       0.092     , 0.        , 0.17539033, 0.14990285, 0.03928571,\n",
       "       0.01857143, 0.        , 0.03285714, 0.05623377, 0.        ,\n",
       "       0.10902381, 0.23416361, 0.43833333, 0.05852381, 0.16166667,\n",
       "       0.        , 0.18580303, 0.45125469, 0.15166667, 0.10933333,\n",
       "       0.05333333, 0.14107699, 0.        , 0.17928629, 0.07201145,\n",
       "       0.        , 0.        , 0.        , 0.217     , 0.13759285,\n",
       "       0.31954762, 0.18142857, 0.19602778, 0.03428571, 0.17407692,\n",
       "       0.        , 0.00333333, 0.63533333, 0.11979494, 0.015     ,\n",
       "       0.02      , 0.235     , 0.        , 0.16183333, 0.09765701,\n",
       "       0.12557143, 0.84      , 0.09765701, 0.12413636, 0.07085714,\n",
       "       0.        , 0.17539033, 0.18916883, 0.10056566, 0.13759285,\n",
       "       0.03      , 0.00307692, 0.        , 0.6268254 , 0.14107699,\n",
       "       0.11820513, 0.        , 0.49033333, 0.00307692, 0.21588095,\n",
       "       0.19681586, 0.06904351, 0.05333333, 0.064     , 0.02      ,\n",
       "       0.        , 0.06      , 0.14990285, 0.        , 0.10380952,\n",
       "       0.05623377, 0.45125469, 0.15166667, 0.15166667, 0.02      ,\n",
       "       0.90666667, 0.09765701, 0.14107699, 0.168     , 0.08666667,\n",
       "       0.        , 0.17039554, 0.02      , 0.509     ])"
      ]
     },
     "execution_count": 233,
     "metadata": {},
     "output_type": "execute_result"
    }
   ],
   "source": [
    "y_pred_quant"
   ]
  },
  {
   "cell_type": "code",
   "execution_count": 234,
   "id": "15b69afe",
   "metadata": {},
   "outputs": [],
   "source": [
    "import numpy as np\n",
    "\n",
    "y_test = y_test.astype(np.float64)\n",
    "y_pred_quant = y_pred_quant.astype(np.float64)"
   ]
  },
  {
   "cell_type": "code",
   "execution_count": 235,
   "id": "fb5c1ba8",
   "metadata": {},
   "outputs": [],
   "source": [
    "from sklearn.preprocessing import LabelEncoder\n",
    "\n",
    "encoder = LabelEncoder()\n",
    "y_test = encoder.fit_transform(y_test)"
   ]
  },
  {
   "cell_type": "code",
   "execution_count": 236,
   "id": "bbc23dc3",
   "metadata": {},
   "outputs": [
    {
     "data": {
      "text/plain": [
       "array([0, 0, 0, 1, 0, 0, 0, 0, 0, 1, 0, 0, 0, 0, 0, 0, 0, 1, 0, 0, 0, 0,\n",
       "       0, 0, 0, 1, 0, 0, 0, 0, 0, 0, 0, 0, 0, 0, 0, 0, 0, 0, 0, 0, 0, 0,\n",
       "       0, 0, 0, 1, 0, 0, 0, 0, 0, 0, 0, 0, 0, 1, 0, 0, 1, 0, 0, 0, 0, 0,\n",
       "       0, 0, 0, 0, 0, 0, 1, 0, 0, 0, 0, 1, 0, 0, 0, 1, 1, 0, 0, 1, 0, 0,\n",
       "       1, 0, 0, 0, 0, 0, 0, 1, 0, 0, 0, 1, 1, 0, 0, 0, 1, 0, 0, 0, 0, 1,\n",
       "       1, 0, 0, 0, 0, 0, 0, 0, 0, 0, 0, 0, 0, 0, 1, 0, 0, 0, 0, 0, 1, 1,\n",
       "       0, 1, 0, 0, 0, 0, 0, 0, 0, 0, 0, 0, 1, 0, 0, 0, 0, 0, 0, 1, 0, 0,\n",
       "       0, 0, 0, 0, 0, 1, 0, 1, 0, 0, 0, 0, 1, 1, 0, 0, 0, 0, 0, 0, 0, 0,\n",
       "       0, 1, 0, 0, 0, 0, 0, 0, 0, 0, 0, 1, 0, 0, 0, 0, 0, 0, 0, 0, 0, 0,\n",
       "       0, 0, 1, 0, 1, 0, 0, 1, 0, 1, 0, 0, 1, 0, 0, 0, 0, 0, 0, 0, 0, 0,\n",
       "       0, 0, 1, 0, 0, 0, 0, 1, 1, 0, 1, 0, 1, 0, 0, 0, 0, 0, 0, 1, 1, 0,\n",
       "       0, 0, 0, 0, 0, 0, 0, 0, 0, 0, 1, 0, 0, 1, 0, 0, 0, 0, 1, 0, 0, 0,\n",
       "       0, 0, 0, 0, 1, 1, 0, 0, 0, 1, 1, 1, 0, 0, 0, 0, 0, 1, 1, 0, 0, 0,\n",
       "       0, 0, 0, 0, 0, 0, 1, 0, 0, 0, 0, 0, 0, 0, 0, 0, 0, 0, 0, 0, 0, 0,\n",
       "       0, 0, 0, 0, 0, 1, 0, 0, 0, 0, 0, 0, 0, 0, 1, 0, 0, 0, 0, 0, 0, 1,\n",
       "       0, 0, 0, 0, 0, 0, 0, 0, 0, 0, 0, 1, 1, 0, 0, 0, 0, 0, 0, 0, 0, 0,\n",
       "       0, 0, 0, 0, 1, 0, 0, 0, 0, 1, 0, 0, 0, 0, 0, 0, 0, 0, 0, 0, 0, 0,\n",
       "       0, 1, 0, 0, 0, 0, 1, 0, 0, 0, 0, 0, 0, 0, 0, 0, 0, 0, 0, 0, 0, 0,\n",
       "       0, 0, 0, 0, 0, 0, 0, 0, 0, 0, 0, 0, 0, 0, 0, 0, 0, 0, 0, 0, 0, 0,\n",
       "       0, 0, 0, 0, 0, 0, 0, 0, 0, 0, 0, 0, 0, 0, 0, 0, 0, 0, 1, 0, 0, 0,\n",
       "       0, 0, 1, 0, 0, 0, 0, 1, 0, 0, 0, 0, 0, 0, 0, 0, 0, 0, 0, 1, 0, 0,\n",
       "       0, 0, 0, 0, 0, 0, 0, 0, 0, 0, 1, 0, 0, 0, 0, 0, 0, 0, 0, 0, 0, 0,\n",
       "       0, 0, 0, 0, 0, 0, 0, 0, 0, 0, 0, 0, 0, 0, 0, 0, 0, 0, 0, 0, 0, 0,\n",
       "       0, 0, 0, 0, 0, 0, 0, 0, 0, 0, 0, 0, 0, 1, 0, 0, 1, 1, 0, 0, 0, 0,\n",
       "       0, 0, 0, 0, 0, 0, 0, 0, 0, 0, 0, 0, 0, 0, 0, 1, 0, 0, 0, 0, 1, 1,\n",
       "       0, 0, 0, 0, 0, 0, 1, 0, 0, 0, 0, 0, 0, 0, 0, 0, 0, 0, 0, 0, 0, 0,\n",
       "       0, 0])"
      ]
     },
     "execution_count": 236,
     "metadata": {},
     "output_type": "execute_result"
    }
   ],
   "source": [
    "y_test"
   ]
  },
  {
   "cell_type": "code",
   "execution_count": 237,
   "id": "6cb25bfd",
   "metadata": {},
   "outputs": [
    {
     "name": "stdout",
     "output_type": "stream",
     "text": [
      "(574,) int64\n",
      "(574,) float64\n"
     ]
    }
   ],
   "source": [
    "print(y_test.shape, y_test.dtype)\n",
    "print(y_pred_quant.shape, y_pred_quant.dtype)"
   ]
  },
  {
   "cell_type": "code",
   "execution_count": 238,
   "id": "da229518",
   "metadata": {},
   "outputs": [
    {
     "name": "stdout",
     "output_type": "stream",
     "text": [
      "[0 1]\n"
     ]
    }
   ],
   "source": [
    "print(np.unique(y_test))"
   ]
  },
  {
   "cell_type": "code",
   "execution_count": 239,
   "id": "ba270f9c",
   "metadata": {},
   "outputs": [
    {
     "name": "stdout",
     "output_type": "stream",
     "text": [
      "[0.         0.00307692 0.00333333 0.00421053 0.005      0.00571429\n",
      " 0.006      0.00666667 0.00738806 0.00761905 0.00812974 0.01\n",
      " 0.011      0.01285714 0.01333333 0.015      0.01857143 0.02\n",
      " 0.02022222 0.0225     0.02285714 0.02333333 0.024      0.025\n",
      " 0.02514286 0.02619048 0.02666667 0.02748521 0.028      0.03\n",
      " 0.03285714 0.03333333 0.03428571 0.035637   0.03585714 0.03666667\n",
      " 0.03785714 0.03797619 0.03928571 0.04       0.0425     0.044\n",
      " 0.04458333 0.045      0.04571429 0.04607143 0.04666667 0.04666667\n",
      " 0.05       0.05285714 0.05333333 0.05333333 0.05404762 0.05623377\n",
      " 0.05733333 0.0575     0.05852381 0.05904762 0.06       0.06166667\n",
      " 0.06167832 0.06283552 0.06363636 0.064      0.06466667 0.06507692\n",
      " 0.06551282 0.06622222 0.06666667 0.06685714 0.0675     0.068\n",
      " 0.06833333 0.06860806 0.0689196  0.06904351 0.06909091 0.07\n",
      " 0.07017647 0.07030303 0.07076923 0.07085714 0.07178161 0.07201145\n",
      " 0.076      0.07709524 0.07777273 0.07785714 0.07892308 0.08\n",
      " 0.08033333 0.08166667 0.08391004 0.08521573 0.08585714 0.08666667\n",
      " 0.08916667 0.08965385 0.09087681 0.092      0.0956746  0.09690476\n",
      " 0.09733333 0.09765701 0.098      0.099      0.1        0.10056566\n",
      " 0.1025     0.10380952 0.10520147 0.1055873  0.10593215 0.10616941\n",
      " 0.10841286 0.10902381 0.10933333 0.11       0.11048507 0.11207576\n",
      " 0.11238095 0.1166048  0.11820513 0.11933333 0.11970588 0.11979494\n",
      " 0.12       0.12035294 0.12166667 0.12413636 0.12557143 0.12566667\n",
      " 0.12666667 0.12748718 0.12966667 0.13066667 0.131      0.13133333\n",
      " 0.13476984 0.13487719 0.1362381  0.13692424 0.1375     0.13759285\n",
      " 0.14107699 0.142      0.14236075 0.14280303 0.14371429 0.14436652\n",
      " 0.14501704 0.148      0.14804329 0.14990285 0.15166667 0.15333333\n",
      " 0.155      0.15666667 0.15680952 0.15704762 0.15766667 0.15919658\n",
      " 0.16       0.1615     0.16166667 0.16183333 0.16190476 0.16211637\n",
      " 0.16333333 0.16333333 0.16366955 0.164      0.16666667 0.168\n",
      " 0.16904762 0.16933333 0.17039554 0.17085714 0.17280342 0.17407692\n",
      " 0.17513889 0.17530366 0.17539033 0.17600794 0.17622222 0.17928629\n",
      " 0.18142857 0.18152381 0.18235426 0.18387255 0.18471429 0.18557359\n",
      " 0.18563492 0.18580303 0.18916883 0.19033333 0.19090837 0.19194872\n",
      " 0.195      0.19602778 0.19622222 0.19681586 0.19833333 0.20257143\n",
      " 0.20261905 0.20360317 0.20377193 0.20448413 0.212      0.215\n",
      " 0.21588095 0.217      0.22719048 0.2285     0.22966667 0.231\n",
      " 0.23416361 0.235      0.23833333 0.24090476 0.241      0.2447619\n",
      " 0.24733333 0.24752525 0.25223912 0.25795543 0.25969697 0.2618254\n",
      " 0.26315873 0.26902381 0.27       0.27333333 0.27790476 0.28333333\n",
      " 0.28666667 0.28855556 0.289      0.29122222 0.29354762 0.29466667\n",
      " 0.29516667 0.30266667 0.304      0.31593851 0.31666667 0.31712454\n",
      " 0.31954762 0.32007143 0.3205101  0.33133333 0.33653175 0.34224892\n",
      " 0.34720635 0.34761905 0.35       0.35096825 0.3534359  0.36790476\n",
      " 0.37162328 0.388      0.39490476 0.40366119 0.40910514 0.41238817\n",
      " 0.41819006 0.42566667 0.43833333 0.44533333 0.446      0.45125469\n",
      " 0.45633333 0.47433333 0.47733333 0.48166667 0.482      0.49033333\n",
      " 0.49446032 0.50633333 0.509      0.54463492 0.56330447 0.6\n",
      " 0.615      0.6268254  0.63533333 0.63752381 0.64333333 0.64444444\n",
      " 0.65630252 0.66       0.687      0.72       0.72166667 0.75333333\n",
      " 0.78       0.80733333 0.84       0.90666667 0.92      ]\n"
     ]
    }
   ],
   "source": [
    "print(np.unique(y_pred_quant))"
   ]
  },
  {
   "cell_type": "code",
   "execution_count": 240,
   "id": "61a1db4a",
   "metadata": {},
   "outputs": [
    {
     "ename": "TypeError",
     "evalue": "'numpy.float64' object is not callable",
     "output_type": "error",
     "traceback": [
      "\u001b[0;31m---------------------------------------------------------------------------\u001b[0m",
      "\u001b[0;31mTypeError\u001b[0m                                 Traceback (most recent call last)",
      "\u001b[0;32m/var/folders/pp/nms3rb9s3lx8dj72smlll5440000gn/T/ipykernel_17463/3572550684.py\u001b[0m in \u001b[0;36m<module>\u001b[0;34m\u001b[0m\n\u001b[1;32m      1\u001b[0m \u001b[0mfpr\u001b[0m\u001b[0;34m,\u001b[0m \u001b[0mtpr\u001b[0m\u001b[0;34m,\u001b[0m \u001b[0mthresholds\u001b[0m \u001b[0;34m=\u001b[0m \u001b[0mroc_curve\u001b[0m\u001b[0;34m(\u001b[0m\u001b[0my_test\u001b[0m\u001b[0;34m,\u001b[0m \u001b[0my_pred_quant\u001b[0m\u001b[0;34m,\u001b[0m \u001b[0mpos_label\u001b[0m\u001b[0;34m=\u001b[0m\u001b[0;36m1\u001b[0m\u001b[0;34m)\u001b[0m\u001b[0;34m\u001b[0m\u001b[0;34m\u001b[0m\u001b[0m\n\u001b[0;32m----> 2\u001b[0;31m \u001b[0mauc_score\u001b[0m \u001b[0;34m=\u001b[0m \u001b[0mauc\u001b[0m\u001b[0;34m(\u001b[0m\u001b[0mfpr\u001b[0m\u001b[0;34m,\u001b[0m \u001b[0mtpr\u001b[0m\u001b[0;34m)\u001b[0m\u001b[0;34m\u001b[0m\u001b[0;34m\u001b[0m\u001b[0m\n\u001b[0m",
      "\u001b[0;31mTypeError\u001b[0m: 'numpy.float64' object is not callable"
     ]
    }
   ],
   "source": [
    "fpr, tpr, thresholds = roc_curve(y_test, y_pred_quant, pos_label=1)\n",
    "auc_score = auc(fpr, tpr)"
   ]
  },
  {
   "cell_type": "code",
   "execution_count": 241,
   "id": "9e84f4b8",
   "metadata": {},
   "outputs": [
    {
     "name": "stdout",
     "output_type": "stream",
     "text": [
      "[1.92       0.92       0.90666667 0.80733333 0.75333333 0.65630252\n",
      " 0.64444444 0.63752381 0.6268254  0.50633333 0.49446032 0.49033333\n",
      " 0.48166667 0.47733333 0.47433333 0.45633333 0.45125469 0.44533333\n",
      " 0.42566667 0.41819006 0.40910514 0.33133333 0.3205101  0.31666667\n",
      " 0.31593851 0.304      0.30266667 0.29516667 0.29466667 0.29122222\n",
      " 0.26902381 0.26315873 0.235      0.23416361 0.22966667 0.2285\n",
      " 0.217      0.215      0.212      0.20448413 0.19833333 0.19681586\n",
      " 0.19194872 0.19090837 0.19033333 0.18916883 0.18580303 0.18563492\n",
      " 0.18387255 0.18235426 0.18142857 0.17928629 0.17622222 0.17600794\n",
      " 0.17539033 0.17513889 0.17407692 0.17085714 0.17039554 0.16933333\n",
      " 0.16333333 0.16211637 0.15766667 0.15704762 0.15333333 0.15166667\n",
      " 0.14990285 0.14804329 0.14501704 0.14436652 0.14371429 0.14236075\n",
      " 0.142      0.14107699 0.13759285 0.12966667 0.12748718 0.12666667\n",
      " 0.12566667 0.12035294 0.12       0.11979494 0.11820513 0.1166048\n",
      " 0.10593215 0.10520147 0.10056566 0.1        0.099      0.098\n",
      " 0.09765701 0.092      0.09087681 0.08521573 0.08391004 0.08033333\n",
      " 0.08       0.076      0.07201145 0.07085714 0.07076923 0.07\n",
      " 0.06909091 0.06666667 0.06622222 0.06551282 0.06507692 0.06466667\n",
      " 0.06167832 0.06166667 0.06       0.0575     0.05733333 0.05623377\n",
      " 0.05404762 0.05333333 0.05333333 0.05285714 0.05       0.04666667\n",
      " 0.04666667 0.04571429 0.045      0.0425     0.04       0.03797619\n",
      " 0.03785714 0.03666667 0.035637   0.03428571 0.03285714 0.03\n",
      " 0.02748521 0.02666667 0.02619048 0.02514286 0.025      0.02333333\n",
      " 0.02285714 0.0225     0.02022222 0.02       0.01857143 0.015\n",
      " 0.01333333 0.01285714 0.00666667 0.006      0.00571429 0.005\n",
      " 0.00333333 0.00307692 0.        ]\n"
     ]
    }
   ],
   "source": [
    "print(thresholds)"
   ]
  },
  {
   "cell_type": "code",
   "execution_count": 242,
   "id": "a0b2576c",
   "metadata": {},
   "outputs": [
    {
     "name": "stdout",
     "output_type": "stream",
     "text": [
      "0.6203740814963261\n"
     ]
    }
   ],
   "source": [
    "print(auc_score)"
   ]
  },
  {
   "cell_type": "code",
   "execution_count": 243,
   "id": "12091b6a",
   "metadata": {},
   "outputs": [
    {
     "data": {
      "text/plain": [
       "0.13759284500886193"
      ]
     },
     "execution_count": 243,
     "metadata": {},
     "output_type": "execute_result"
    }
   ],
   "source": [
    "# compute equal error rate\n",
    "res = 1\n",
    "for idx, thr in enumerate(thresholds):\n",
    "    if abs(tpr[idx] - (1 - fpr[idx])) < res:\n",
    "        res = abs(tpr[idx] - (1 - fpr[idx]))\n",
    "        eer_thr = thr\n",
    "eer_thr"
   ]
  },
  {
   "cell_type": "code",
   "execution_count": 244,
   "id": "cd000be7",
   "metadata": {},
   "outputs": [
    {
     "data": {
      "image/png": "[encoded data removed]",
      "text/plain": [
       "<Figure size 432x288 with 1 Axes>"
      ]
     },
     "metadata": {
      "needs_background": "light"
     },
     "output_type": "display_data"
    }
   ],
   "source": [
    "from sklearn.metrics import plot_roc_curve\n",
    "plot_roc_curve(clf, X_test, y_test)\n",
    "plt.show()"
   ]
  },
  {
   "cell_type": "code",
   "execution_count": 80,
   "id": "d9be46f7",
   "metadata": {},
   "outputs": [
    {
     "ename": "ModuleNotFoundError",
     "evalue": "No module named 'imblearn'",
     "output_type": "error",
     "traceback": [
      "\u001b[0;31m---------------------------------------------------------------------------\u001b[0m",
      "\u001b[0;31mModuleNotFoundError\u001b[0m                       Traceback (most recent call last)",
      "\u001b[0;32m/var/folders/pp/nms3rb9s3lx8dj72smlll5440000gn/T/ipykernel_17463/903242021.py\u001b[0m in \u001b[0;36m<module>\u001b[0;34m\u001b[0m\n\u001b[1;32m      4\u001b[0m \u001b[0;32mfrom\u001b[0m \u001b[0msklearn\u001b[0m\u001b[0;34m.\u001b[0m\u001b[0mmetrics\u001b[0m \u001b[0;32mimport\u001b[0m \u001b[0mroc_auc_score\u001b[0m\u001b[0;34m\u001b[0m\u001b[0;34m\u001b[0m\u001b[0m\n\u001b[1;32m      5\u001b[0m \u001b[0;32mfrom\u001b[0m \u001b[0msklearn\u001b[0m\u001b[0;34m.\u001b[0m\u001b[0mpreprocessing\u001b[0m \u001b[0;32mimport\u001b[0m \u001b[0mStandardScaler\u001b[0m\u001b[0;34m\u001b[0m\u001b[0;34m\u001b[0m\u001b[0m\n\u001b[0;32m----> 6\u001b[0;31m \u001b[0;32mfrom\u001b[0m \u001b[0mimblearn\u001b[0m\u001b[0;34m.\u001b[0m\u001b[0mover_sampling\u001b[0m \u001b[0;32mimport\u001b[0m \u001b[0mRandomOverSampler\u001b[0m\u001b[0;34m\u001b[0m\u001b[0;34m\u001b[0m\u001b[0m\n\u001b[0m",
      "\u001b[0;31mModuleNotFoundError\u001b[0m: No module named 'imblearn'"
     ]
    }
   ],
   "source": [
    "import pandas as pd\n",
    "from sklearn.ensemble import RandomForestClassifier\n",
    "from sklearn.model_selection import train_test_split, GridSearchCV\n",
    "from sklearn.metrics import roc_auc_score\n",
    "from sklearn.preprocessing import StandardScaler\n",
    "from imblearn.over_sampling import RandomOverSampler"
   ]
  },
  {
   "cell_type": "code",
   "execution_count": null,
   "id": "6c9384eb",
   "metadata": {},
   "outputs": [],
   "source": [
    "# Scale the features\n",
    "scaler = StandardScaler()\n",
    "X_train = scaler.fit_transform(X_train)\n",
    "X_test = scaler.transform(X_test)\n",
    "\n",
    "# Resample the data to balance the classes\n",
    "#ros = RandomOverSampler(random_state=42)\n",
    "#X_train_resampled, y_train_resampled = ros.fit_resample(X_train, y_train)\n",
    "\n",
    "# Tune hyperparameters using cross-validation\n",
    "params = {'n_estimators': [100, 200, 500],\n",
    "          'max_depth': [2, 5, 10, 20],\n",
    "          'min_samples_split': [2, 5, 10, 20]}\n",
    "rf = RandomForestClassifier(random_state=42)\n",
    "grid_search = GridSearchCV(rf, params, scoring='roc_auc', cv=5)\n",
    "grid_search.fit(X_train, y_train)\n",
    "best_rf = grid_search.best_estimator_\n",
    "\n",
    "# Fit the model on the training data\n",
    "best_rf.fit(X_train, y_train)\n",
    "\n",
    "# Make predictions on the test data\n",
    "y_pred = best_rf.predict(X_test)"
   ]
  },
  {
   "cell_type": "code",
   "execution_count": 221,
   "id": "3389d507",
   "metadata": {},
   "outputs": [
    {
     "name": "stdout",
     "output_type": "stream",
     "text": [
      "AUC: 0.5393052772211089\n"
     ]
    }
   ],
   "source": [
    "# Evaluate the performance of the model\n",
    "auc = roc_auc_score(y_test, y_pred)\n",
    "print('AUC:', auc)"
   ]
  },
  {
   "cell_type": "markdown",
   "id": "f5fcceed",
   "metadata": {},
   "source": [
    "# Logistic Regression"
   ]
  },
  {
   "cell_type": "code",
   "execution_count": 191,
   "id": "c5893c10",
   "metadata": {},
   "outputs": [],
   "source": [
    "import numpy as np\n",
    "import pandas as pd\n",
    "import matplotlib.pyplot as plt\n",
    "import seaborn as sns\n",
    "from sklearn.linear_model import LogisticRegression\n",
    "from sklearn.metrics import classification_report, confusion_matrix, roc_curve, roc_auc_score\n",
    "from sklearn.model_selection import (\n",
    "    train_test_split,\n",
    "    GridSearchCV,\n",
    "    cross_val_score,\n",
    "    RepeatedStratifiedKFold,\n",
    "    StratifiedKFold,\n",
    ")\n",
    "\n"
   ]
  },
  {
   "cell_type": "code",
   "execution_count": 192,
   "id": "b67ced95",
   "metadata": {},
   "outputs": [],
   "source": [
    "# Scale the features\n",
    "scaler = StandardScaler()\n",
    "X_train = scaler.fit_transform(X_train)\n",
    "X_test = scaler.transform(X_test)"
   ]
  },
  {
   "cell_type": "code",
   "execution_count": 193,
   "id": "240030dc-cee2-4810-93a9-477e414d1c41",
   "metadata": {},
   "outputs": [],
   "source": [
    "# Class weights.\n",
    "w = [\n",
    "    {0: 0.10, 1: 99.90},\n",
    "    {0: 0.25, 1: 99.75},\n",
    "    {0: 0.50, 1: 99.50},\n",
    "    {0: 0.75, 1: 99.25},\n",
    "    {0: 1.00, 1: 99.00},\n",
    "    {\n",
    "        0: 100\n",
    "        * np.sum(y == 0)\n",
    "        / (np.sum(y == 1) + np.sum(y == 0)),\n",
    "        1: 100\n",
    "        * np.sum(y == 1)\n",
    "        / (np.sum(y == 0) + np.sum(y == 1)),\n",
    "    },\n",
    "]\n",
    "\n",
    "# Inverse of regularization strength.\n",
    "crange = np.arange(0.1, 1.0, 0.2)\n"
   ]
  },
  {
   "cell_type": "code",
   "execution_count": 194,
   "id": "840ad945-984b-4a19-9940-68ccb0cd1f7c",
   "metadata": {},
   "outputs": [],
   "source": [
    "# Hyperparameter grid.\n",
    "hyperparam_grid = {\n",
    "    \"class_weight\": w,\n",
    "    \"penalty\": [\"l2\"], \n",
    "    \"C\": crange,\n",
    "    \"fit_intercept\": [True, False],\n",
    "}"
   ]
  },
  {
   "cell_type": "code",
   "execution_count": 195,
   "id": "970da88f-9d32-406b-ae52-f3cac239381f",
   "metadata": {},
   "outputs": [],
   "source": [
    "# logistic model classifier.\n",
    "lg = LogisticRegression(random_state=13)\n",
    "\n",
    "# define evaluation procedure\n",
    "grid = GridSearchCV(\n",
    "    lg, hyperparam_grid, scoring=\"roc_auc\", cv=10, n_jobs=-1, refit=True\n",
    ")"
   ]
  },
  {
   "cell_type": "code",
   "execution_count": 250,
   "id": "6fe3b7b0-cce0-44f1-b761-db5d83ab1077",
   "metadata": {},
   "outputs": [],
   "source": [
    "from sklearn.model_selection import GridSearchCV\n",
    "from sklearn.linear_model import LogisticRegression"
   ]
  },
  {
   "cell_type": "code",
   "execution_count": 251,
   "id": "afc6ba72-658a-4bdc-b443-4933554fc3a1",
   "metadata": {},
   "outputs": [],
   "source": [
    "# Assuming you have defined the necessary data and parameter grid for grid search\n",
    "\n",
    "# Define the parameter grid\n",
    "param_grid = {\n",
    "    'solver': ['liblinear'],\n",
    "    'penalty': ['l1', 'l2'],\n",
    "    'C': [0.1, 1, 10]\n",
    "    # Add other parameters and their values as needed\n",
    "}\n",
    "\n",
    "# Perform grid search\n",
    "grid = GridSearchCV(LogisticRegression(), param_grid)\n",
    "grid.fit(X_train, y_train)\n",
    "\n",
    "# Access the best parameters\n",
    "best_params = grid.best_params_\n",
    "\n",
    "# Use the best parameters\n",
    "best_fit_model = LogisticRegression(\n",
    "    solver=best_params[\"solver\"],\n",
    "    penalty=best_params[\"penalty\"],\n",
    "    C=best_params[\"C\"],\n",
    "    # Add other necessary parameters\n",
    ")\n"
   ]
  },
  {
   "cell_type": "code",
   "execution_count": 253,
   "id": "5e2a7146-d933-40a2-b302-da11af9b26fa",
   "metadata": {},
   "outputs": [
    {
     "data": {
      "text/plain": [
       "LogisticRegression(C=0.1, penalty='l1', solver='liblinear')"
      ]
     },
     "execution_count": 253,
     "metadata": {},
     "output_type": "execute_result"
    }
   ],
   "source": [
    "# fit it\n",
    "best_fit_model.fit(X_train, y_train.astype(\"int32\"))"
   ]
  },
  {
   "cell_type": "code",
   "execution_count": 254,
   "id": "75e10ceb-52de-4cb5-908c-566118b5fd44",
   "metadata": {},
   "outputs": [
    {
     "name": "stdout",
     "output_type": "stream",
     "text": [
      "              precision    recall  f1-score   support\n",
      "\n",
      "           0       0.88      0.97      0.92       499\n",
      "           1       0.33      0.11      0.16        75\n",
      "\n",
      "    accuracy                           0.86       574\n",
      "   macro avg       0.61      0.54      0.54       574\n",
      "weighted avg       0.81      0.86      0.82       574\n",
      "\n"
     ]
    },
    {
     "data": {
      "image/png": "[encoded data removed]",
      "text/plain": [
       "<Figure size 432x288 with 1 Axes>"
      ]
     },
     "metadata": {
      "needs_background": "light"
     },
     "output_type": "display_data"
    }
   ],
   "source": [
    "# Generate a classification report\n",
    "print(classification_report(y_test, y_pred))\n",
    "\n",
    "# Calculate the ROC curve and AUC score\n",
    "y_pred_proba = best_fit_model.predict_proba(X_test)[:, 1]\n",
    "fpr, tpr, thresholds = roc_curve(y_test, y_pred_proba)\n",
    "auc_score = roc_auc_score(y_test, y_pred_proba)\n",
    "\n",
    "# Plot the ROC curve\n",
    "plt.plot(fpr, tpr, label='ROC curve (area = %0.2f)' % auc_score)\n",
    "plt.plot([0, 1], [0, 1], 'k--')\n",
    "plt.xlabel('False Positive Rate')\n",
    "plt.ylabel('True Positive Rate')\n",
    "plt.title('Receiver Operating Characteristic')\n",
    "plt.legend(loc='lower right')\n",
    "plt.show()"
   ]
  },
  {
   "cell_type": "code",
   "execution_count": 255,
   "id": "767ebe74-bf03-4448-a957-371be7620a95",
   "metadata": {},
   "outputs": [
    {
     "data": {
      "text/plain": [
       "<AxesSubplot:>"
      ]
     },
     "execution_count": 255,
     "metadata": {},
     "output_type": "execute_result"
    },
    {
     "data": {
      "image/png": "[encoded data removed]",
      "text/plain": [
       "<Figure size 432x288 with 2 Axes>"
      ]
     },
     "metadata": {
      "needs_background": "light"
     },
     "output_type": "display_data"
    }
   ],
   "source": [
    "# Generate a confusion matrix\n",
    "conf_matrix = confusion_matrix(y_test, y_pred)\n",
    "sns.heatmap(conf_matrix, annot=True, fmt='d')"
   ]
  },
  {
   "cell_type": "code",
   "execution_count": 256,
   "id": "f148cf04-79af-4c8e-ab82-3b2b1d491553",
   "metadata": {},
   "outputs": [
    {
     "name": "stdout",
     "output_type": "stream",
     "text": [
      "AUC: 0.5373012692050768\n"
     ]
    }
   ],
   "source": [
    "# Evaluate the performance of the model\n",
    "auc = roc_auc_score(y_test, y_pred)\n",
    "print('AUC:', auc)"
   ]
  },
  {
   "cell_type": "markdown",
   "id": "468c0cfa",
   "metadata": {},
   "source": [
    "# Support Vector Machine"
   ]
  },
  {
   "cell_type": "code",
   "execution_count": 210,
   "id": "66bfebbe",
   "metadata": {},
   "outputs": [],
   "source": [
    "from sklearn.model_selection import train_test_split\n",
    "from sklearn.svm import SVC\n",
    "from sklearn.metrics import accuracy_score, confusion_matrix, classification_report\n",
    "from sklearn.preprocessing import StandardScaler"
   ]
  },
  {
   "cell_type": "code",
   "execution_count": 211,
   "id": "b16844b6",
   "metadata": {},
   "outputs": [],
   "source": [
    "# Scale the features\n",
    "scaler = StandardScaler()\n",
    "X_train = scaler.fit_transform(X_train)\n",
    "X_test = scaler.transform(X_test)"
   ]
  },
  {
   "cell_type": "code",
   "execution_count": 212,
   "id": "a9a020d9",
   "metadata": {},
   "outputs": [],
   "source": [
    "# Train the SVM model\n",
    "svm = SVC(kernel='linear', random_state=42)\n",
    "svm.fit(X_train, y_train)\n",
    "\n",
    "# Make predictions on the test data\n",
    "y_pred = svm.predict(X_test)\n"
   ]
  },
  {
   "cell_type": "code",
   "execution_count": 213,
   "id": "0b6f32d1",
   "metadata": {},
   "outputs": [
    {
     "name": "stdout",
     "output_type": "stream",
     "text": [
      "Accuracy: 0.8693379790940766\n",
      "Confusion Matrix:\n",
      " [[499   0]\n",
      " [ 75   0]]\n",
      "Classification Report:\n",
      "               precision    recall  f1-score   support\n",
      "\n",
      "           0       0.87      1.00      0.93       499\n",
      "           1       0.00      0.00      0.00        75\n",
      "\n",
      "    accuracy                           0.87       574\n",
      "   macro avg       0.43      0.50      0.47       574\n",
      "weighted avg       0.76      0.87      0.81       574\n",
      "\n"
     ]
    },
    {
     "name": "stderr",
     "output_type": "stream",
     "text": [
      "Precision and F-score are ill-defined and being set to 0.0 in labels with no predicted samples. Use `zero_division` parameter to control this behavior.\n",
      "Precision and F-score are ill-defined and being set to 0.0 in labels with no predicted samples. Use `zero_division` parameter to control this behavior.\n",
      "Precision and F-score are ill-defined and being set to 0.0 in labels with no predicted samples. Use `zero_division` parameter to control this behavior.\n"
     ]
    }
   ],
   "source": [
    "# Evaluate the performance of the model\n",
    "print('Accuracy:', accuracy_score(y_test, y_pred))\n",
    "print('Confusion Matrix:\\n', confusion_matrix(y_test, y_pred))\n",
    "print('Classification Report:\\n', classification_report(y_test, y_pred))"
   ]
  },
  {
   "cell_type": "code",
   "execution_count": 214,
   "id": "1f8a3bd7-2f93-46eb-97d9-f123d92becf0",
   "metadata": {},
   "outputs": [
    {
     "data": {
      "image/png": "[encoded data removed]",
      "text/plain": [
       "<Figure size 432x288 with 1 Axes>"
      ]
     },
     "metadata": {
      "needs_background": "light"
     },
     "output_type": "display_data"
    }
   ],
   "source": [
    "# Plot the ROC curve\n",
    "plt.plot(fpr, tpr, label='ROC curve (area = %0.2f)' % auc_score)\n",
    "plt.plot([0, 1], [0, 1], 'k--')\n",
    "plt.xlabel('False Positive Rate')\n",
    "plt.ylabel('True Positive Rate')\n",
    "plt.title('Receiver Operating Characteristic')\n",
    "plt.legend(loc='lower right')\n",
    "plt.show()"
   ]
  },
  {
   "cell_type": "code",
   "execution_count": 215,
   "id": "dfce4ea8-8075-45c8-9a35-5a845b2c56a7",
   "metadata": {},
   "outputs": [
    {
     "data": {
      "text/plain": [
       "<AxesSubplot:>"
      ]
     },
     "execution_count": 215,
     "metadata": {},
     "output_type": "execute_result"
    },
    {
     "data": {
      "image/png": "[encoded data removed]",
      "text/plain": [
       "<Figure size 432x288 with 2 Axes>"
      ]
     },
     "metadata": {
      "needs_background": "light"
     },
     "output_type": "display_data"
    }
   ],
   "source": [
    "# Generate a confusion matrix\n",
    "conf_matrix = confusion_matrix(y_test, y_pred)\n",
    "sns.heatmap(conf_matrix, annot=True, fmt='d')\n"
   ]
  },
  {
   "cell_type": "code",
   "execution_count": 216,
   "id": "36661222-ce98-4418-8748-bedb71f783b2",
   "metadata": {},
   "outputs": [
    {
     "name": "stdout",
     "output_type": "stream",
     "text": [
      "AUC: 0.5\n"
     ]
    }
   ],
   "source": [
    "# Evaluate the performance of the model\n",
    "auc = roc_auc_score(y_test, y_pred)\n",
    "print('AUC:', auc)"
   ]
  },
  {
   "cell_type": "markdown",
   "id": "c10be7d8",
   "metadata": {},
   "source": [
    "# XG Boost"
   ]
  },
  {
   "cell_type": "code",
   "execution_count": 217,
   "id": "cab3f6c6",
   "metadata": {},
   "outputs": [],
   "source": [
    "#!pip install xgboost && \n",
    "import xgboost as xgb\n",
    "from sklearn.model_selection import train_test_split\n",
    "from sklearn.metrics import accuracy_score, confusion_matrix, classification_report\n"
   ]
  },
  {
   "cell_type": "code",
   "execution_count": 218,
   "id": "63487f81",
   "metadata": {},
   "outputs": [
    {
     "name": "stdout",
     "output_type": "stream",
     "text": [
      "Accuracy: 0.8588850174216028\n",
      "Confusion Matrix:\n",
      " [[485  14]\n",
      " [ 67   8]]\n",
      "Classification Report:\n",
      "               precision    recall  f1-score   support\n",
      "\n",
      "           0       0.88      0.97      0.92       499\n",
      "           1       0.36      0.11      0.16        75\n",
      "\n",
      "    accuracy                           0.86       574\n",
      "   macro avg       0.62      0.54      0.54       574\n",
      "weighted avg       0.81      0.86      0.82       574\n",
      "\n"
     ]
    }
   ],
   "source": [
    "# Train the XGBoost model\n",
    "xgb_model = xgb.XGBClassifier(objective='binary:logistic', random_state=42)\n",
    "xgb_model.fit(X_train, y_train)\n",
    "\n",
    "# Make predictions on the test data\n",
    "y_pred = xgb_model.predict(X_test)\n",
    "\n",
    "# Evaluate the performance of the model\n",
    "print('Accuracy:', accuracy_score(y_test, y_pred))\n",
    "print('Confusion Matrix:\\n', confusion_matrix(y_test, y_pred))\n",
    "print('Classification Report:\\n', classification_report(y_test, y_pred))"
   ]
  },
  {
   "cell_type": "code",
   "execution_count": 219,
   "id": "912e74ba-e8da-41d0-a722-072720595c45",
   "metadata": {},
   "outputs": [
    {
     "data": {
      "text/plain": [
       "<AxesSubplot:>"
      ]
     },
     "execution_count": 219,
     "metadata": {},
     "output_type": "execute_result"
    },
    {
     "data": {
      "image/png": "[encoded data removed]",
      "text/plain": [
       "<Figure size 432x288 with 2 Axes>"
      ]
     },
     "metadata": {
      "needs_background": "light"
     },
     "output_type": "display_data"
    }
   ],
   "source": [
    "# Generate a confusion matrix\n",
    "conf_matrix = confusion_matrix(y_test, y_pred)\n",
    "sns.heatmap(conf_matrix, annot=True, fmt='d')"
   ]
  },
  {
   "cell_type": "code",
   "execution_count": 220,
   "id": "b70dd13a-741c-42f2-92ad-413bc8c6c7cc",
   "metadata": {},
   "outputs": [
    {
     "name": "stdout",
     "output_type": "stream",
     "text": [
      "AUC: 0.5393052772211089\n"
     ]
    }
   ],
   "source": [
    "# Evaluate the performance of the model\n",
    "auc = roc_auc_score(y_test, y_pred)\n",
    "print('AUC:', auc)"
   ]
  },
  {
   "cell_type": "markdown",
   "id": "90ee6dcc",
   "metadata": {},
   "source": [
    "# Cox regression"
   ]
  },
  {
   "cell_type": "code",
   "execution_count": 105,
   "id": "18d34d75",
   "metadata": {},
   "outputs": [],
   "source": [
    "from lifelines import CoxPHFitter\n",
    "from lifelines.datasets import load_rossi"
   ]
  },
  {
   "cell_type": "code",
   "execution_count": null,
   "id": "26f218ce",
   "metadata": {},
   "outputs": [],
   "source": []
  }
 ],
 "metadata": {
  "kernelspec": {
   "display_name": "Python 3 (ipykernel)",
   "language": "python",
   "name": "python3"
  },
  "language_info": {
   "codemirror_mode": {
    "name": "ipython",
    "version": 3
   },
   "file_extension": ".py",
   "mimetype": "text/x-python",
   "name": "python",
   "nbconvert_exporter": "python",
   "pygments_lexer": "ipython3",
   "version": "3.9.7"
  }
 },
 "nbformat": 4,
 "nbformat_minor": 5
}
